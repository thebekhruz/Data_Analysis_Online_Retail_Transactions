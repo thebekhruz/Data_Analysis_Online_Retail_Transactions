{
 "cells": [
  {
   "cell_type": "markdown",
   "metadata": {},
   "source": [
    "Report Structure and Key Metrics\n",
    "General Report\n",
    "Section 1: Best Selling Products\n",
    "\n",
    "List top 10 products by revenue.\n",
    "Visualize with a bar chart or Pareto chart for cumulative revenue share.\n",
    "Section 2: Weekly Sales Performance\n",
    "\n",
    "Line chart showing total sales value by week.\n",
    "Insights into seasonal/weekly trends.\n",
    "Section 3: Customer Analysis\n",
    "\n",
    "Pie chart of one-time vs. repeat customers.\n",
    "Metrics: Average revenue per customer and proportion of revenue from repeat customers.\n",
    "Section 4: Operational Insights\n",
    "\n",
    "KPIs like average transaction value and average items per transaction."
   ]
  },
  {
   "cell_type": "markdown",
   "metadata": {},
   "source": [
    "# Objectives\n",
    "*General Report Objectives (For Managers)*\n",
    "\n",
    "1. Identify Top Revenue Drivers:\n",
    "    - Analyze best-selling products and products contributing the most to revenue.\n",
    "2. Understand Customer Behavior:\n",
    "    - Explore the proportion of one-time vs. repeat customers.\n",
    "3. Monitor Sales Performance:\n",
    "    - Highlight weekly sales trends and peaks in performance.\n",
    "4. Analyze Operational Metrics:\n",
    "    - Provide insights into sales efficiency (e.g., average revenue per transaction, average items sold per order)."
   ]
  },
  {
   "cell_type": "code",
   "execution_count": 1,
   "metadata": {},
   "outputs": [
    {
     "data": {
      "text/html": [
       "<div>\n",
       "<style scoped>\n",
       "    .dataframe tbody tr th:only-of-type {\n",
       "        vertical-align: middle;\n",
       "    }\n",
       "\n",
       "    .dataframe tbody tr th {\n",
       "        vertical-align: top;\n",
       "    }\n",
       "\n",
       "    .dataframe thead th {\n",
       "        text-align: right;\n",
       "    }\n",
       "</style>\n",
       "<table border=\"1\" class=\"dataframe\">\n",
       "  <thead>\n",
       "    <tr style=\"text-align: right;\">\n",
       "      <th></th>\n",
       "      <th>TransactionNo</th>\n",
       "      <th>Date</th>\n",
       "      <th>ProductNo</th>\n",
       "      <th>ProductName</th>\n",
       "      <th>Price</th>\n",
       "      <th>Quantity</th>\n",
       "      <th>CustomerNo</th>\n",
       "      <th>Country</th>\n",
       "    </tr>\n",
       "  </thead>\n",
       "  <tbody>\n",
       "    <tr>\n",
       "      <th>0</th>\n",
       "      <td>581482</td>\n",
       "      <td>2019-12-09</td>\n",
       "      <td>22485</td>\n",
       "      <td>SET OF 2 WOODEN MARKET CRATES</td>\n",
       "      <td>21.47</td>\n",
       "      <td>12</td>\n",
       "      <td>17490</td>\n",
       "      <td>UNITED KINGDOM</td>\n",
       "    </tr>\n",
       "    <tr>\n",
       "      <th>1</th>\n",
       "      <td>581475</td>\n",
       "      <td>2019-12-09</td>\n",
       "      <td>22596</td>\n",
       "      <td>CHRISTMAS STAR WISH LIST CHALKBOARD</td>\n",
       "      <td>10.65</td>\n",
       "      <td>36</td>\n",
       "      <td>13069</td>\n",
       "      <td>UNITED KINGDOM</td>\n",
       "    </tr>\n",
       "    <tr>\n",
       "      <th>2</th>\n",
       "      <td>581475</td>\n",
       "      <td>2019-12-09</td>\n",
       "      <td>23235</td>\n",
       "      <td>STORAGE TIN VINTAGE LEAF</td>\n",
       "      <td>11.53</td>\n",
       "      <td>12</td>\n",
       "      <td>13069</td>\n",
       "      <td>UNITED KINGDOM</td>\n",
       "    </tr>\n",
       "    <tr>\n",
       "      <th>3</th>\n",
       "      <td>581475</td>\n",
       "      <td>2019-12-09</td>\n",
       "      <td>23272</td>\n",
       "      <td>TREE T-LIGHT HOLDER WILLIE WINKIE</td>\n",
       "      <td>10.65</td>\n",
       "      <td>12</td>\n",
       "      <td>13069</td>\n",
       "      <td>UNITED KINGDOM</td>\n",
       "    </tr>\n",
       "    <tr>\n",
       "      <th>4</th>\n",
       "      <td>581475</td>\n",
       "      <td>2019-12-09</td>\n",
       "      <td>23239</td>\n",
       "      <td>SET OF 4 KNICK KNACK TINS POPPIES</td>\n",
       "      <td>11.94</td>\n",
       "      <td>6</td>\n",
       "      <td>13069</td>\n",
       "      <td>UNITED KINGDOM</td>\n",
       "    </tr>\n",
       "  </tbody>\n",
       "</table>\n",
       "</div>"
      ],
      "text/plain": [
       "   TransactionNo        Date ProductNo                          ProductName  \\\n",
       "0         581482  2019-12-09     22485        SET OF 2 WOODEN MARKET CRATES   \n",
       "1         581475  2019-12-09     22596  CHRISTMAS STAR WISH LIST CHALKBOARD   \n",
       "2         581475  2019-12-09     23235             STORAGE TIN VINTAGE LEAF   \n",
       "3         581475  2019-12-09     23272    TREE T-LIGHT HOLDER WILLIE WINKIE   \n",
       "4         581475  2019-12-09     23239    SET OF 4 KNICK KNACK TINS POPPIES   \n",
       "\n",
       "   Price  Quantity  CustomerNo         Country  \n",
       "0  21.47        12       17490  UNITED KINGDOM  \n",
       "1  10.65        36       13069  UNITED KINGDOM  \n",
       "2  11.53        12       13069  UNITED KINGDOM  \n",
       "3  10.65        12       13069  UNITED KINGDOM  \n",
       "4  11.94         6       13069  UNITED KINGDOM  "
      ]
     },
     "execution_count": 1,
     "metadata": {},
     "output_type": "execute_result"
    }
   ],
   "source": [
    "# Load the necessary packages\n",
    "import pandas as pd\n",
    "import numpy as np\n",
    "import matplotlib.pyplot as plt\n",
    "import seaborn as sns\n",
    "from sklearn.preprocessing import StandardScaler\n",
    "from sklearn.decomposition import PCA\n",
    "from sklearn.cluster import KMeans\n",
    "from sklearn.metrics import silhouette_score\n",
    "\n",
    "\n",
    "# Load the cleaned data\n",
    "df = pd.read_csv('../data/preprocessed_data/cleaned_sales.csv')\n",
    "df.head()\n"
   ]
  },
  {
   "cell_type": "markdown",
   "metadata": {},
   "source": [
    "# Section 1: Best Selling Products\n",
    "\n",
    "\n"
   ]
  },
  {
   "cell_type": "markdown",
   "metadata": {},
   "source": [
    "## Pareto Analysis.\n",
    "\n",
    "Description: \n",
    "\n",
    "Goal:\n"
   ]
  },
  {
   "cell_type": "code",
   "execution_count": 2,
   "metadata": {},
   "outputs": [],
   "source": [
    "# # Calculate frequency of purchases\n",
    "# frequency = df.groupby('ProductNo').size()\n",
    "# frequency = frequency.reset_index() # Convert the series to a dataframe\n",
    "# frequency.columns = ['ProductNo', 'Frequency'] # Rename the columns\n",
    "\n",
    "# # Calculate cumulative percentage of purchases\n",
    "# frequency['CumulativeFreq'] = frequency['Frequency'].cumsum()\n",
    "# frequency['CumulativePct'] = frequency['CumulativeFreq'] / frequency['Frequency'].sum() * 100\n",
    "# # Sort the dataframe by Frequency in descending order\n",
    "# frequency = frequency.sort_values(by='Frequency', ascending=False, ignore_index=True) \n",
    "# # frequency.head(10)\n"
   ]
  },
  {
   "cell_type": "code",
   "execution_count": 3,
   "metadata": {},
   "outputs": [
    {
     "data": {
      "text/html": [
       "<div>\n",
       "<style scoped>\n",
       "    .dataframe tbody tr th:only-of-type {\n",
       "        vertical-align: middle;\n",
       "    }\n",
       "\n",
       "    .dataframe tbody tr th {\n",
       "        vertical-align: top;\n",
       "    }\n",
       "\n",
       "    .dataframe thead th {\n",
       "        text-align: right;\n",
       "    }\n",
       "</style>\n",
       "<table border=\"1\" class=\"dataframe\">\n",
       "  <thead>\n",
       "    <tr style=\"text-align: right;\">\n",
       "      <th></th>\n",
       "      <th>ProductNo</th>\n",
       "      <th>Frequency</th>\n",
       "      <th>CumulativeFreq</th>\n",
       "      <th>CumulativePct</th>\n",
       "    </tr>\n",
       "  </thead>\n",
       "  <tbody>\n",
       "    <tr>\n",
       "      <th>0</th>\n",
       "      <td>85123A</td>\n",
       "      <td>2206</td>\n",
       "      <td>2206</td>\n",
       "      <td>0.466393</td>\n",
       "    </tr>\n",
       "    <tr>\n",
       "      <th>1</th>\n",
       "      <td>85099B</td>\n",
       "      <td>1747</td>\n",
       "      <td>3953</td>\n",
       "      <td>0.835744</td>\n",
       "    </tr>\n",
       "    <tr>\n",
       "      <th>2</th>\n",
       "      <td>22423</td>\n",
       "      <td>1639</td>\n",
       "      <td>5592</td>\n",
       "      <td>1.182261</td>\n",
       "    </tr>\n",
       "    <tr>\n",
       "      <th>3</th>\n",
       "      <td>47566</td>\n",
       "      <td>1587</td>\n",
       "      <td>7179</td>\n",
       "      <td>1.517785</td>\n",
       "    </tr>\n",
       "    <tr>\n",
       "      <th>4</th>\n",
       "      <td>20725</td>\n",
       "      <td>1371</td>\n",
       "      <td>8550</td>\n",
       "      <td>1.807642</td>\n",
       "    </tr>\n",
       "    <tr>\n",
       "      <th>5</th>\n",
       "      <td>84879</td>\n",
       "      <td>1359</td>\n",
       "      <td>9909</td>\n",
       "      <td>2.094961</td>\n",
       "    </tr>\n",
       "    <tr>\n",
       "      <th>6</th>\n",
       "      <td>22720</td>\n",
       "      <td>1244</td>\n",
       "      <td>11153</td>\n",
       "      <td>2.357968</td>\n",
       "    </tr>\n",
       "    <tr>\n",
       "      <th>7</th>\n",
       "      <td>22197</td>\n",
       "      <td>1242</td>\n",
       "      <td>12395</td>\n",
       "      <td>2.620552</td>\n",
       "    </tr>\n",
       "    <tr>\n",
       "      <th>8</th>\n",
       "      <td>20727</td>\n",
       "      <td>1238</td>\n",
       "      <td>13633</td>\n",
       "      <td>2.882290</td>\n",
       "    </tr>\n",
       "    <tr>\n",
       "      <th>9</th>\n",
       "      <td>22457</td>\n",
       "      <td>1215</td>\n",
       "      <td>14848</td>\n",
       "      <td>3.139165</td>\n",
       "    </tr>\n",
       "  </tbody>\n",
       "</table>\n",
       "</div>"
      ],
      "text/plain": [
       "  ProductNo  Frequency  CumulativeFreq  CumulativePct\n",
       "0    85123A       2206            2206       0.466393\n",
       "1    85099B       1747            3953       0.835744\n",
       "2     22423       1639            5592       1.182261\n",
       "3     47566       1587            7179       1.517785\n",
       "4     20725       1371            8550       1.807642\n",
       "5     84879       1359            9909       2.094961\n",
       "6     22720       1244           11153       2.357968\n",
       "7     22197       1242           12395       2.620552\n",
       "8     20727       1238           13633       2.882290\n",
       "9     22457       1215           14848       3.139165"
      ]
     },
     "execution_count": 3,
     "metadata": {},
     "output_type": "execute_result"
    }
   ],
   "source": [
    "# Calculate frequency of purchases\n",
    "frequency = df.groupby('ProductNo').size().reset_index(name='Frequency')\n",
    "\n",
    "# Sort by Frequency in descending order\n",
    "frequency = frequency.sort_values(by='Frequency', ascending=False).reset_index(drop=True)\n",
    "\n",
    "# Calculate cumulative frequency and cumulative percentage (after sorting)\n",
    "frequency['CumulativeFreq'] = frequency['Frequency'].cumsum()\n",
    "frequency['CumulativePct'] = frequency['CumulativeFreq'] / frequency['Frequency'].sum() * 100\n",
    "\n",
    "frequency.head(10)\n"
   ]
  },
  {
   "cell_type": "code",
   "execution_count": 7,
   "metadata": {},
   "outputs": [
    {
     "data": {
      "application/vnd.plotly.v1+json": {
       "config": {
        "plotlyServerURL": "https://plot.ly"
       },
       "data": [
        {
         "alignmentgroup": "True",
         "hovertemplate": "ProductNo: %{x}<br>Frequency: %{y}",
         "legendgroup": "",
         "marker": {
          "color": "#636efa",
          "pattern": {
           "shape": ""
          }
         },
         "name": "",
         "offsetgroup": "",
         "orientation": "v",
         "showlegend": false,
         "text": [
          2206,
          1747,
          1639,
          1587,
          1371,
          1359,
          1244,
          1242,
          1238,
          1215,
          1209,
          1168,
          1161,
          1122,
          1117,
          1114,
          1084,
          1077,
          1072,
          1067,
          1059,
          1043,
          1037,
          1011,
          1008,
          1001,
          996,
          987,
          979,
          958,
          951,
          943,
          941,
          937,
          919,
          917,
          898,
          894,
          884,
          876,
          873,
          863,
          861,
          851,
          850,
          849,
          838,
          836,
          834,
          829,
          816,
          813,
          807,
          799,
          786,
          785,
          785,
          781,
          776,
          776,
          771,
          769,
          766,
          756,
          743,
          739,
          728,
          725,
          721,
          715,
          715,
          711,
          706,
          703,
          702,
          696,
          691,
          689,
          688,
          685,
          683,
          683,
          680,
          676,
          664,
          662,
          658,
          657,
          655,
          654,
          653,
          645,
          641,
          641,
          640,
          637,
          636,
          631,
          628,
          625
         ],
         "textposition": "auto",
         "type": "bar",
         "x": [
          "85123A",
          "85099B",
          "22423",
          "47566",
          "20725",
          "84879",
          "22720",
          "22197",
          "20727",
          "22457",
          "22383",
          "22469",
          "21212",
          "22086",
          "22411",
          "21931",
          "23203",
          "22386",
          "82482",
          "20728",
          "23298",
          "22382",
          "22666",
          "22993",
          "22384",
          "22961",
          "22960",
          "23209",
          "22178",
          "22699",
          "21034",
          "22697",
          "82494L",
          "22727",
          "22470",
          "23206",
          "23301",
          "20724",
          "22726",
          "84946",
          "20726",
          "21790",
          "22077",
          "85099C",
          "21080",
          "23084",
          "23199",
          "20914",
          "22112",
          "22139",
          "21181",
          "23201",
          "22138",
          "22910",
          "22722",
          "21977",
          "23202",
          "22355",
          "84991",
          "21175",
          "23355",
          "21929",
          "21754",
          "23300",
          "21232",
          "22111",
          "21928",
          "23245",
          "22698",
          "21733",
          "85099F",
          "22630",
          "22629",
          "23207",
          "22090",
          "20712",
          "22379",
          "23284",
          "22558",
          "21930",
          "20719",
          "84978",
          "21166",
          "22356",
          "21171",
          "85152",
          "20723",
          "21731",
          "22659",
          "23344",
          "22728",
          "79321",
          "22865",
          "82484",
          "22835",
          "84380",
          "23321",
          "84378",
          "21755",
          "23208"
         ],
         "xaxis": "x",
         "y": [
          2206,
          1747,
          1639,
          1587,
          1371,
          1359,
          1244,
          1242,
          1238,
          1215,
          1209,
          1168,
          1161,
          1122,
          1117,
          1114,
          1084,
          1077,
          1072,
          1067,
          1059,
          1043,
          1037,
          1011,
          1008,
          1001,
          996,
          987,
          979,
          958,
          951,
          943,
          941,
          937,
          919,
          917,
          898,
          894,
          884,
          876,
          873,
          863,
          861,
          851,
          850,
          849,
          838,
          836,
          834,
          829,
          816,
          813,
          807,
          799,
          786,
          785,
          785,
          781,
          776,
          776,
          771,
          769,
          766,
          756,
          743,
          739,
          728,
          725,
          721,
          715,
          715,
          711,
          706,
          703,
          702,
          696,
          691,
          689,
          688,
          685,
          683,
          683,
          680,
          676,
          664,
          662,
          658,
          657,
          655,
          654,
          653,
          645,
          641,
          641,
          640,
          637,
          636,
          631,
          628,
          625
         ],
         "yaxis": "y"
        },
        {
         "hovertemplate": "ProductNo: %{x}<br>Frequency: %{y}",
         "line": {
          "color": "red"
         },
         "mode": "lines+markers",
         "name": "Cumulative Percentage",
         "type": "scatter",
         "x": [
          "85123A",
          "85099B",
          "22423",
          "47566",
          "20725",
          "84879",
          "22720",
          "22197",
          "20727",
          "22457",
          "22383",
          "22469",
          "21212",
          "22086",
          "22411",
          "21931",
          "23203",
          "22386",
          "82482",
          "20728",
          "23298",
          "22382",
          "22666",
          "22993",
          "22384",
          "22961",
          "22960",
          "23209",
          "22178",
          "22699",
          "21034",
          "22697",
          "82494L",
          "22727",
          "22470",
          "23206",
          "23301",
          "20724",
          "22726",
          "84946",
          "20726",
          "21790",
          "22077",
          "85099C",
          "21080",
          "23084",
          "23199",
          "20914",
          "22112",
          "22139",
          "21181",
          "23201",
          "22138",
          "22910",
          "22722",
          "21977",
          "23202",
          "22355",
          "84991",
          "21175",
          "23355",
          "21929",
          "21754",
          "23300",
          "21232",
          "22111",
          "21928",
          "23245",
          "22698",
          "21733",
          "85099F",
          "22630",
          "22629",
          "23207",
          "22090",
          "20712",
          "22379",
          "23284",
          "22558",
          "21930",
          "20719",
          "84978",
          "21166",
          "22356",
          "21171",
          "85152",
          "20723",
          "21731",
          "22659",
          "23344",
          "22728",
          "79321",
          "22865",
          "82484",
          "22835",
          "84380",
          "23321",
          "84378",
          "21755",
          "23208"
         ],
         "y": [
          0.46639266626074016,
          0.8357435220891685,
          1.182261010757053,
          1.517784655977268,
          1.8076415668763952,
          2.0949614369799066,
          2.3579679994587646,
          2.62055172180502,
          2.88228976388607,
          3.1391651444421895,
          3.3947720046005005,
          3.641710642040458,
          3.8871693390163045,
          4.1243826534064,
          4.360538867464989,
          4.596060821324674,
          4.8252401731953185,
          5.052939584601853,
          5.279581895676882,
          5.505167106420405,
          5.729060956633516,
          5.949572085785807,
          6.168814694540288,
          6.3825603815709355,
          6.595671808402679,
          6.807303294770313,
          7.017877680806441,
          7.226549286245857,
          7.4335295311548615,
          7.636069954671537,
          7.837130437724104,
          8.036499560246261,
          8.235445842635816,
          8.433546444760164,
          8.62784148569109,
          8.821713686489412,
          9.011568906028009,
          9.200578445301401,
          9.387473783911778,
          9.572677761991747,
          9.75724747987281,
          9.93970299709086,
          10.121735674176307,
          10.301654150598742,
          10.481361206954874,
          10.660856843244707,
          10.838026858805224,
          11.014774034233136,
          11.191098369528449,
          11.366365604492254,
          11.538884378594142,
          11.710768892497123,
          11.8813848860023,
          12.050309518977064,
          12.216485691089913,
          12.382450443136458,
          12.548415195183004,
          12.713534266964347,
          12.87759623841418,
          13.041658209864016,
          13.204663080982343,
          13.367245111968067,
          13.529192882754886,
          13.689026452878695,
          13.846111562140587,
          14.002350991137272,
          14.156264799404642,
          14.309544347473107,
          14.46197821527637,
          14.613143562681822,
          14.764308910087273,
          14.914628577227521,
          15.063891144036262,
          15.2125194506461,
          15.360936337189635,
          15.508084703335362,
          15.654175969149584,
          15.799844394831203,
          15.945301400446517,
          16.090124145862934,
          16.234524051146742,
          16.37892395643055,
          16.52268960151546,
          16.66560956633516,
          16.805992490359245,
          16.94595257425073,
          17.085066977877002,
          17.22396996143698,
          17.36245010486435,
          17.500718828225427,
          17.638776131520196,
          17.775142074284556,
          17.91066233678371,
          18.046182599282865,
          18.181491441715718,
          18.316166023949666,
          18.45062918611731,
          18.584035247953455,
          18.71680704959069,
          18.848944591029024
         ]
        }
       ],
       "layout": {
        "barmode": "relative",
        "legend": {
         "tracegroupgap": 0
        },
        "template": {
         "data": {
          "bar": [
           {
            "error_x": {
             "color": "#2a3f5f"
            },
            "error_y": {
             "color": "#2a3f5f"
            },
            "marker": {
             "line": {
              "color": "#E5ECF6",
              "width": 0.5
             },
             "pattern": {
              "fillmode": "overlay",
              "size": 10,
              "solidity": 0.2
             }
            },
            "type": "bar"
           }
          ],
          "barpolar": [
           {
            "marker": {
             "line": {
              "color": "#E5ECF6",
              "width": 0.5
             },
             "pattern": {
              "fillmode": "overlay",
              "size": 10,
              "solidity": 0.2
             }
            },
            "type": "barpolar"
           }
          ],
          "carpet": [
           {
            "aaxis": {
             "endlinecolor": "#2a3f5f",
             "gridcolor": "white",
             "linecolor": "white",
             "minorgridcolor": "white",
             "startlinecolor": "#2a3f5f"
            },
            "baxis": {
             "endlinecolor": "#2a3f5f",
             "gridcolor": "white",
             "linecolor": "white",
             "minorgridcolor": "white",
             "startlinecolor": "#2a3f5f"
            },
            "type": "carpet"
           }
          ],
          "choropleth": [
           {
            "colorbar": {
             "outlinewidth": 0,
             "ticks": ""
            },
            "type": "choropleth"
           }
          ],
          "contour": [
           {
            "colorbar": {
             "outlinewidth": 0,
             "ticks": ""
            },
            "colorscale": [
             [
              0,
              "#0d0887"
             ],
             [
              0.1111111111111111,
              "#46039f"
             ],
             [
              0.2222222222222222,
              "#7201a8"
             ],
             [
              0.3333333333333333,
              "#9c179e"
             ],
             [
              0.4444444444444444,
              "#bd3786"
             ],
             [
              0.5555555555555556,
              "#d8576b"
             ],
             [
              0.6666666666666666,
              "#ed7953"
             ],
             [
              0.7777777777777778,
              "#fb9f3a"
             ],
             [
              0.8888888888888888,
              "#fdca26"
             ],
             [
              1,
              "#f0f921"
             ]
            ],
            "type": "contour"
           }
          ],
          "contourcarpet": [
           {
            "colorbar": {
             "outlinewidth": 0,
             "ticks": ""
            },
            "type": "contourcarpet"
           }
          ],
          "heatmap": [
           {
            "colorbar": {
             "outlinewidth": 0,
             "ticks": ""
            },
            "colorscale": [
             [
              0,
              "#0d0887"
             ],
             [
              0.1111111111111111,
              "#46039f"
             ],
             [
              0.2222222222222222,
              "#7201a8"
             ],
             [
              0.3333333333333333,
              "#9c179e"
             ],
             [
              0.4444444444444444,
              "#bd3786"
             ],
             [
              0.5555555555555556,
              "#d8576b"
             ],
             [
              0.6666666666666666,
              "#ed7953"
             ],
             [
              0.7777777777777778,
              "#fb9f3a"
             ],
             [
              0.8888888888888888,
              "#fdca26"
             ],
             [
              1,
              "#f0f921"
             ]
            ],
            "type": "heatmap"
           }
          ],
          "heatmapgl": [
           {
            "colorbar": {
             "outlinewidth": 0,
             "ticks": ""
            },
            "colorscale": [
             [
              0,
              "#0d0887"
             ],
             [
              0.1111111111111111,
              "#46039f"
             ],
             [
              0.2222222222222222,
              "#7201a8"
             ],
             [
              0.3333333333333333,
              "#9c179e"
             ],
             [
              0.4444444444444444,
              "#bd3786"
             ],
             [
              0.5555555555555556,
              "#d8576b"
             ],
             [
              0.6666666666666666,
              "#ed7953"
             ],
             [
              0.7777777777777778,
              "#fb9f3a"
             ],
             [
              0.8888888888888888,
              "#fdca26"
             ],
             [
              1,
              "#f0f921"
             ]
            ],
            "type": "heatmapgl"
           }
          ],
          "histogram": [
           {
            "marker": {
             "pattern": {
              "fillmode": "overlay",
              "size": 10,
              "solidity": 0.2
             }
            },
            "type": "histogram"
           }
          ],
          "histogram2d": [
           {
            "colorbar": {
             "outlinewidth": 0,
             "ticks": ""
            },
            "colorscale": [
             [
              0,
              "#0d0887"
             ],
             [
              0.1111111111111111,
              "#46039f"
             ],
             [
              0.2222222222222222,
              "#7201a8"
             ],
             [
              0.3333333333333333,
              "#9c179e"
             ],
             [
              0.4444444444444444,
              "#bd3786"
             ],
             [
              0.5555555555555556,
              "#d8576b"
             ],
             [
              0.6666666666666666,
              "#ed7953"
             ],
             [
              0.7777777777777778,
              "#fb9f3a"
             ],
             [
              0.8888888888888888,
              "#fdca26"
             ],
             [
              1,
              "#f0f921"
             ]
            ],
            "type": "histogram2d"
           }
          ],
          "histogram2dcontour": [
           {
            "colorbar": {
             "outlinewidth": 0,
             "ticks": ""
            },
            "colorscale": [
             [
              0,
              "#0d0887"
             ],
             [
              0.1111111111111111,
              "#46039f"
             ],
             [
              0.2222222222222222,
              "#7201a8"
             ],
             [
              0.3333333333333333,
              "#9c179e"
             ],
             [
              0.4444444444444444,
              "#bd3786"
             ],
             [
              0.5555555555555556,
              "#d8576b"
             ],
             [
              0.6666666666666666,
              "#ed7953"
             ],
             [
              0.7777777777777778,
              "#fb9f3a"
             ],
             [
              0.8888888888888888,
              "#fdca26"
             ],
             [
              1,
              "#f0f921"
             ]
            ],
            "type": "histogram2dcontour"
           }
          ],
          "mesh3d": [
           {
            "colorbar": {
             "outlinewidth": 0,
             "ticks": ""
            },
            "type": "mesh3d"
           }
          ],
          "parcoords": [
           {
            "line": {
             "colorbar": {
              "outlinewidth": 0,
              "ticks": ""
             }
            },
            "type": "parcoords"
           }
          ],
          "pie": [
           {
            "automargin": true,
            "type": "pie"
           }
          ],
          "scatter": [
           {
            "fillpattern": {
             "fillmode": "overlay",
             "size": 10,
             "solidity": 0.2
            },
            "type": "scatter"
           }
          ],
          "scatter3d": [
           {
            "line": {
             "colorbar": {
              "outlinewidth": 0,
              "ticks": ""
             }
            },
            "marker": {
             "colorbar": {
              "outlinewidth": 0,
              "ticks": ""
             }
            },
            "type": "scatter3d"
           }
          ],
          "scattercarpet": [
           {
            "marker": {
             "colorbar": {
              "outlinewidth": 0,
              "ticks": ""
             }
            },
            "type": "scattercarpet"
           }
          ],
          "scattergeo": [
           {
            "marker": {
             "colorbar": {
              "outlinewidth": 0,
              "ticks": ""
             }
            },
            "type": "scattergeo"
           }
          ],
          "scattergl": [
           {
            "marker": {
             "colorbar": {
              "outlinewidth": 0,
              "ticks": ""
             }
            },
            "type": "scattergl"
           }
          ],
          "scattermapbox": [
           {
            "marker": {
             "colorbar": {
              "outlinewidth": 0,
              "ticks": ""
             }
            },
            "type": "scattermapbox"
           }
          ],
          "scatterpolar": [
           {
            "marker": {
             "colorbar": {
              "outlinewidth": 0,
              "ticks": ""
             }
            },
            "type": "scatterpolar"
           }
          ],
          "scatterpolargl": [
           {
            "marker": {
             "colorbar": {
              "outlinewidth": 0,
              "ticks": ""
             }
            },
            "type": "scatterpolargl"
           }
          ],
          "scatterternary": [
           {
            "marker": {
             "colorbar": {
              "outlinewidth": 0,
              "ticks": ""
             }
            },
            "type": "scatterternary"
           }
          ],
          "surface": [
           {
            "colorbar": {
             "outlinewidth": 0,
             "ticks": ""
            },
            "colorscale": [
             [
              0,
              "#0d0887"
             ],
             [
              0.1111111111111111,
              "#46039f"
             ],
             [
              0.2222222222222222,
              "#7201a8"
             ],
             [
              0.3333333333333333,
              "#9c179e"
             ],
             [
              0.4444444444444444,
              "#bd3786"
             ],
             [
              0.5555555555555556,
              "#d8576b"
             ],
             [
              0.6666666666666666,
              "#ed7953"
             ],
             [
              0.7777777777777778,
              "#fb9f3a"
             ],
             [
              0.8888888888888888,
              "#fdca26"
             ],
             [
              1,
              "#f0f921"
             ]
            ],
            "type": "surface"
           }
          ],
          "table": [
           {
            "cells": {
             "fill": {
              "color": "#EBF0F8"
             },
             "line": {
              "color": "white"
             }
            },
            "header": {
             "fill": {
              "color": "#C8D4E3"
             },
             "line": {
              "color": "white"
             }
            },
            "type": "table"
           }
          ]
         },
         "layout": {
          "annotationdefaults": {
           "arrowcolor": "#2a3f5f",
           "arrowhead": 0,
           "arrowwidth": 1
          },
          "autotypenumbers": "strict",
          "coloraxis": {
           "colorbar": {
            "outlinewidth": 0,
            "ticks": ""
           }
          },
          "colorscale": {
           "diverging": [
            [
             0,
             "#8e0152"
            ],
            [
             0.1,
             "#c51b7d"
            ],
            [
             0.2,
             "#de77ae"
            ],
            [
             0.3,
             "#f1b6da"
            ],
            [
             0.4,
             "#fde0ef"
            ],
            [
             0.5,
             "#f7f7f7"
            ],
            [
             0.6,
             "#e6f5d0"
            ],
            [
             0.7,
             "#b8e186"
            ],
            [
             0.8,
             "#7fbc41"
            ],
            [
             0.9,
             "#4d9221"
            ],
            [
             1,
             "#276419"
            ]
           ],
           "sequential": [
            [
             0,
             "#0d0887"
            ],
            [
             0.1111111111111111,
             "#46039f"
            ],
            [
             0.2222222222222222,
             "#7201a8"
            ],
            [
             0.3333333333333333,
             "#9c179e"
            ],
            [
             0.4444444444444444,
             "#bd3786"
            ],
            [
             0.5555555555555556,
             "#d8576b"
            ],
            [
             0.6666666666666666,
             "#ed7953"
            ],
            [
             0.7777777777777778,
             "#fb9f3a"
            ],
            [
             0.8888888888888888,
             "#fdca26"
            ],
            [
             1,
             "#f0f921"
            ]
           ],
           "sequentialminus": [
            [
             0,
             "#0d0887"
            ],
            [
             0.1111111111111111,
             "#46039f"
            ],
            [
             0.2222222222222222,
             "#7201a8"
            ],
            [
             0.3333333333333333,
             "#9c179e"
            ],
            [
             0.4444444444444444,
             "#bd3786"
            ],
            [
             0.5555555555555556,
             "#d8576b"
            ],
            [
             0.6666666666666666,
             "#ed7953"
            ],
            [
             0.7777777777777778,
             "#fb9f3a"
            ],
            [
             0.8888888888888888,
             "#fdca26"
            ],
            [
             1,
             "#f0f921"
            ]
           ]
          },
          "colorway": [
           "#636efa",
           "#EF553B",
           "#00cc96",
           "#ab63fa",
           "#FFA15A",
           "#19d3f3",
           "#FF6692",
           "#B6E880",
           "#FF97FF",
           "#FECB52"
          ],
          "font": {
           "color": "#2a3f5f"
          },
          "geo": {
           "bgcolor": "white",
           "lakecolor": "white",
           "landcolor": "#E5ECF6",
           "showlakes": true,
           "showland": true,
           "subunitcolor": "white"
          },
          "hoverlabel": {
           "align": "left"
          },
          "hovermode": "closest",
          "mapbox": {
           "style": "light"
          },
          "paper_bgcolor": "white",
          "plot_bgcolor": "#E5ECF6",
          "polar": {
           "angularaxis": {
            "gridcolor": "white",
            "linecolor": "white",
            "ticks": ""
           },
           "bgcolor": "#E5ECF6",
           "radialaxis": {
            "gridcolor": "white",
            "linecolor": "white",
            "ticks": ""
           }
          },
          "scene": {
           "xaxis": {
            "backgroundcolor": "#E5ECF6",
            "gridcolor": "white",
            "gridwidth": 2,
            "linecolor": "white",
            "showbackground": true,
            "ticks": "",
            "zerolinecolor": "white"
           },
           "yaxis": {
            "backgroundcolor": "#E5ECF6",
            "gridcolor": "white",
            "gridwidth": 2,
            "linecolor": "white",
            "showbackground": true,
            "ticks": "",
            "zerolinecolor": "white"
           },
           "zaxis": {
            "backgroundcolor": "#E5ECF6",
            "gridcolor": "white",
            "gridwidth": 2,
            "linecolor": "white",
            "showbackground": true,
            "ticks": "",
            "zerolinecolor": "white"
           }
          },
          "shapedefaults": {
           "line": {
            "color": "#2a3f5f"
           }
          },
          "ternary": {
           "aaxis": {
            "gridcolor": "white",
            "linecolor": "white",
            "ticks": ""
           },
           "baxis": {
            "gridcolor": "white",
            "linecolor": "white",
            "ticks": ""
           },
           "bgcolor": "#E5ECF6",
           "caxis": {
            "gridcolor": "white",
            "linecolor": "white",
            "ticks": ""
           }
          },
          "title": {
           "x": 0.05
          },
          "xaxis": {
           "automargin": true,
           "gridcolor": "white",
           "linecolor": "white",
           "ticks": "",
           "title": {
            "standoff": 15
           },
           "zerolinecolor": "white",
           "zerolinewidth": 2
          },
          "yaxis": {
           "automargin": true,
           "gridcolor": "white",
           "linecolor": "white",
           "ticks": "",
           "title": {
            "standoff": 15
           },
           "zerolinecolor": "white",
           "zerolinewidth": 2
          }
         }
        },
        "title": {
         "text": "Pareto Chart"
        },
        "xaxis": {
         "anchor": "y",
         "domain": [
          0,
          1
         ],
         "title": {
          "text": "x"
         }
        },
        "yaxis": {
         "anchor": "x",
         "domain": [
          0,
          1
         ],
         "title": {
          "text": "y"
         }
        }
       }
      },
      "image/png": "[encoded data removed]",
      "text/html": [
       "<div>                            <div id=\"df04eb55-7aae-43e6-b2ec-957c0233706a\" class=\"plotly-graph-div\" style=\"height:525px; width:100%;\"></div>            <script type=\"text/javascript\">                require([\"plotly\"], function(Plotly) {                    window.PLOTLYENV=window.PLOTLYENV || {};                                    if (document.getElementById(\"df04eb55-7aae-43e6-b2ec-957c0233706a\")) {                    Plotly.newPlot(                        \"df04eb55-7aae-43e6-b2ec-957c0233706a\",                        [{\"alignmentgroup\":\"True\",\"hovertemplate\":\"ProductNo: %{x}\\u003cbr\\u003eFrequency: %{y}\",\"legendgroup\":\"\",\"marker\":{\"color\":\"#636efa\",\"pattern\":{\"shape\":\"\"}},\"name\":\"\",\"offsetgroup\":\"\",\"orientation\":\"v\",\"showlegend\":false,\"text\":[2206.0,1747.0,1639.0,1587.0,1371.0,1359.0,1244.0,1242.0,1238.0,1215.0,1209.0,1168.0,1161.0,1122.0,1117.0,1114.0,1084.0,1077.0,1072.0,1067.0,1059.0,1043.0,1037.0,1011.0,1008.0,1001.0,996.0,987.0,979.0,958.0,951.0,943.0,941.0,937.0,919.0,917.0,898.0,894.0,884.0,876.0,873.0,863.0,861.0,851.0,850.0,849.0,838.0,836.0,834.0,829.0,816.0,813.0,807.0,799.0,786.0,785.0,785.0,781.0,776.0,776.0,771.0,769.0,766.0,756.0,743.0,739.0,728.0,725.0,721.0,715.0,715.0,711.0,706.0,703.0,702.0,696.0,691.0,689.0,688.0,685.0,683.0,683.0,680.0,676.0,664.0,662.0,658.0,657.0,655.0,654.0,653.0,645.0,641.0,641.0,640.0,637.0,636.0,631.0,628.0,625.0],\"textposition\":\"auto\",\"x\":[\"85123A\",\"85099B\",\"22423\",\"47566\",\"20725\",\"84879\",\"22720\",\"22197\",\"20727\",\"22457\",\"22383\",\"22469\",\"21212\",\"22086\",\"22411\",\"21931\",\"23203\",\"22386\",\"82482\",\"20728\",\"23298\",\"22382\",\"22666\",\"22993\",\"22384\",\"22961\",\"22960\",\"23209\",\"22178\",\"22699\",\"21034\",\"22697\",\"82494L\",\"22727\",\"22470\",\"23206\",\"23301\",\"20724\",\"22726\",\"84946\",\"20726\",\"21790\",\"22077\",\"85099C\",\"21080\",\"23084\",\"23199\",\"20914\",\"22112\",\"22139\",\"21181\",\"23201\",\"22138\",\"22910\",\"22722\",\"21977\",\"23202\",\"22355\",\"84991\",\"21175\",\"23355\",\"21929\",\"21754\",\"23300\",\"21232\",\"22111\",\"21928\",\"23245\",\"22698\",\"21733\",\"85099F\",\"22630\",\"22629\",\"23207\",\"22090\",\"20712\",\"22379\",\"23284\",\"22558\",\"21930\",\"20719\",\"84978\",\"21166\",\"22356\",\"21171\",\"85152\",\"20723\",\"21731\",\"22659\",\"23344\",\"22728\",\"79321\",\"22865\",\"82484\",\"22835\",\"84380\",\"23321\",\"84378\",\"21755\",\"23208\"],\"xaxis\":\"x\",\"y\":[2206,1747,1639,1587,1371,1359,1244,1242,1238,1215,1209,1168,1161,1122,1117,1114,1084,1077,1072,1067,1059,1043,1037,1011,1008,1001,996,987,979,958,951,943,941,937,919,917,898,894,884,876,873,863,861,851,850,849,838,836,834,829,816,813,807,799,786,785,785,781,776,776,771,769,766,756,743,739,728,725,721,715,715,711,706,703,702,696,691,689,688,685,683,683,680,676,664,662,658,657,655,654,653,645,641,641,640,637,636,631,628,625],\"yaxis\":\"y\",\"type\":\"bar\"},{\"line\":{\"color\":\"red\"},\"mode\":\"lines+markers\",\"name\":\"Cumulative Percentage\",\"x\":[\"85123A\",\"85099B\",\"22423\",\"47566\",\"20725\",\"84879\",\"22720\",\"22197\",\"20727\",\"22457\",\"22383\",\"22469\",\"21212\",\"22086\",\"22411\",\"21931\",\"23203\",\"22386\",\"82482\",\"20728\",\"23298\",\"22382\",\"22666\",\"22993\",\"22384\",\"22961\",\"22960\",\"23209\",\"22178\",\"22699\",\"21034\",\"22697\",\"82494L\",\"22727\",\"22470\",\"23206\",\"23301\",\"20724\",\"22726\",\"84946\",\"20726\",\"21790\",\"22077\",\"85099C\",\"21080\",\"23084\",\"23199\",\"20914\",\"22112\",\"22139\",\"21181\",\"23201\",\"22138\",\"22910\",\"22722\",\"21977\",\"23202\",\"22355\",\"84991\",\"21175\",\"23355\",\"21929\",\"21754\",\"23300\",\"21232\",\"22111\",\"21928\",\"23245\",\"22698\",\"21733\",\"85099F\",\"22630\",\"22629\",\"23207\",\"22090\",\"20712\",\"22379\",\"23284\",\"22558\",\"21930\",\"20719\",\"84978\",\"21166\",\"22356\",\"21171\",\"85152\",\"20723\",\"21731\",\"22659\",\"23344\",\"22728\",\"79321\",\"22865\",\"82484\",\"22835\",\"84380\",\"23321\",\"84378\",\"21755\",\"23208\"],\"y\":[0.46639266626074016,0.8357435220891685,1.182261010757053,1.517784655977268,1.8076415668763952,2.0949614369799066,2.3579679994587646,2.62055172180502,2.88228976388607,3.1391651444421895,3.3947720046005005,3.641710642040458,3.8871693390163045,4.1243826534064,4.360538867464989,4.596060821324674,4.8252401731953185,5.052939584601853,5.279581895676882,5.505167106420405,5.729060956633516,5.949572085785807,6.168814694540288,6.3825603815709355,6.595671808402679,6.807303294770313,7.017877680806441,7.226549286245857,7.4335295311548615,7.636069954671537,7.837130437724104,8.036499560246261,8.235445842635816,8.433546444760164,8.62784148569109,8.821713686489412,9.011568906028009,9.200578445301401,9.387473783911778,9.572677761991747,9.75724747987281,9.93970299709086,10.121735674176307,10.301654150598742,10.481361206954874,10.660856843244707,10.838026858805224,11.014774034233136,11.191098369528449,11.366365604492254,11.538884378594142,11.710768892497123,11.8813848860023,12.050309518977064,12.216485691089913,12.382450443136458,12.548415195183004,12.713534266964347,12.87759623841418,13.041658209864016,13.204663080982343,13.367245111968067,13.529192882754886,13.689026452878695,13.846111562140587,14.002350991137272,14.156264799404642,14.309544347473107,14.46197821527637,14.613143562681822,14.764308910087273,14.914628577227521,15.063891144036262,15.2125194506461,15.360936337189635,15.508084703335362,15.654175969149584,15.799844394831203,15.945301400446517,16.090124145862934,16.234524051146742,16.37892395643055,16.52268960151546,16.66560956633516,16.805992490359245,16.94595257425073,17.085066977877002,17.22396996143698,17.36245010486435,17.500718828225427,17.638776131520196,17.775142074284556,17.91066233678371,18.046182599282865,18.181491441715718,18.316166023949666,18.45062918611731,18.584035247953455,18.71680704959069,18.848944591029024],\"type\":\"scatter\",\"hovertemplate\":\"ProductNo: %{x}\\u003cbr\\u003eFrequency: %{y}\"}],                        {\"template\":{\"data\":{\"histogram2dcontour\":[{\"type\":\"histogram2dcontour\",\"colorbar\":{\"outlinewidth\":0,\"ticks\":\"\"},\"colorscale\":[[0.0,\"#0d0887\"],[0.1111111111111111,\"#46039f\"],[0.2222222222222222,\"#7201a8\"],[0.3333333333333333,\"#9c179e\"],[0.4444444444444444,\"#bd3786\"],[0.5555555555555556,\"#d8576b\"],[0.6666666666666666,\"#ed7953\"],[0.7777777777777778,\"#fb9f3a\"],[0.8888888888888888,\"#fdca26\"],[1.0,\"#f0f921\"]]}],\"choropleth\":[{\"type\":\"choropleth\",\"colorbar\":{\"outlinewidth\":0,\"ticks\":\"\"}}],\"histogram2d\":[{\"type\":\"histogram2d\",\"colorbar\":{\"outlinewidth\":0,\"ticks\":\"\"},\"colorscale\":[[0.0,\"#0d0887\"],[0.1111111111111111,\"#46039f\"],[0.2222222222222222,\"#7201a8\"],[0.3333333333333333,\"#9c179e\"],[0.4444444444444444,\"#bd3786\"],[0.5555555555555556,\"#d8576b\"],[0.6666666666666666,\"#ed7953\"],[0.7777777777777778,\"#fb9f3a\"],[0.8888888888888888,\"#fdca26\"],[1.0,\"#f0f921\"]]}],\"heatmap\":[{\"type\":\"heatmap\",\"colorbar\":{\"outlinewidth\":0,\"ticks\":\"\"},\"colorscale\":[[0.0,\"#0d0887\"],[0.1111111111111111,\"#46039f\"],[0.2222222222222222,\"#7201a8\"],[0.3333333333333333,\"#9c179e\"],[0.4444444444444444,\"#bd3786\"],[0.5555555555555556,\"#d8576b\"],[0.6666666666666666,\"#ed7953\"],[0.7777777777777778,\"#fb9f3a\"],[0.8888888888888888,\"#fdca26\"],[1.0,\"#f0f921\"]]}],\"heatmapgl\":[{\"type\":\"heatmapgl\",\"colorbar\":{\"outlinewidth\":0,\"ticks\":\"\"},\"colorscale\":[[0.0,\"#0d0887\"],[0.1111111111111111,\"#46039f\"],[0.2222222222222222,\"#7201a8\"],[0.3333333333333333,\"#9c179e\"],[0.4444444444444444,\"#bd3786\"],[0.5555555555555556,\"#d8576b\"],[0.6666666666666666,\"#ed7953\"],[0.7777777777777778,\"#fb9f3a\"],[0.8888888888888888,\"#fdca26\"],[1.0,\"#f0f921\"]]}],\"contourcarpet\":[{\"type\":\"contourcarpet\",\"colorbar\":{\"outlinewidth\":0,\"ticks\":\"\"}}],\"contour\":[{\"type\":\"contour\",\"colorbar\":{\"outlinewidth\":0,\"ticks\":\"\"},\"colorscale\":[[0.0,\"#0d0887\"],[0.1111111111111111,\"#46039f\"],[0.2222222222222222,\"#7201a8\"],[0.3333333333333333,\"#9c179e\"],[0.4444444444444444,\"#bd3786\"],[0.5555555555555556,\"#d8576b\"],[0.6666666666666666,\"#ed7953\"],[0.7777777777777778,\"#fb9f3a\"],[0.8888888888888888,\"#fdca26\"],[1.0,\"#f0f921\"]]}],\"surface\":[{\"type\":\"surface\",\"colorbar\":{\"outlinewidth\":0,\"ticks\":\"\"},\"colorscale\":[[0.0,\"#0d0887\"],[0.1111111111111111,\"#46039f\"],[0.2222222222222222,\"#7201a8\"],[0.3333333333333333,\"#9c179e\"],[0.4444444444444444,\"#bd3786\"],[0.5555555555555556,\"#d8576b\"],[0.6666666666666666,\"#ed7953\"],[0.7777777777777778,\"#fb9f3a\"],[0.8888888888888888,\"#fdca26\"],[1.0,\"#f0f921\"]]}],\"mesh3d\":[{\"type\":\"mesh3d\",\"colorbar\":{\"outlinewidth\":0,\"ticks\":\"\"}}],\"scatter\":[{\"fillpattern\":{\"fillmode\":\"overlay\",\"size\":10,\"solidity\":0.2},\"type\":\"scatter\"}],\"parcoords\":[{\"type\":\"parcoords\",\"line\":{\"colorbar\":{\"outlinewidth\":0,\"ticks\":\"\"}}}],\"scatterpolargl\":[{\"type\":\"scatterpolargl\",\"marker\":{\"colorbar\":{\"outlinewidth\":0,\"ticks\":\"\"}}}],\"bar\":[{\"error_x\":{\"color\":\"#2a3f5f\"},\"error_y\":{\"color\":\"#2a3f5f\"},\"marker\":{\"line\":{\"color\":\"#E5ECF6\",\"width\":0.5},\"pattern\":{\"fillmode\":\"overlay\",\"size\":10,\"solidity\":0.2}},\"type\":\"bar\"}],\"scattergeo\":[{\"type\":\"scattergeo\",\"marker\":{\"colorbar\":{\"outlinewidth\":0,\"ticks\":\"\"}}}],\"scatterpolar\":[{\"type\":\"scatterpolar\",\"marker\":{\"colorbar\":{\"outlinewidth\":0,\"ticks\":\"\"}}}],\"histogram\":[{\"marker\":{\"pattern\":{\"fillmode\":\"overlay\",\"size\":10,\"solidity\":0.2}},\"type\":\"histogram\"}],\"scattergl\":[{\"type\":\"scattergl\",\"marker\":{\"colorbar\":{\"outlinewidth\":0,\"ticks\":\"\"}}}],\"scatter3d\":[{\"type\":\"scatter3d\",\"line\":{\"colorbar\":{\"outlinewidth\":0,\"ticks\":\"\"}},\"marker\":{\"colorbar\":{\"outlinewidth\":0,\"ticks\":\"\"}}}],\"scattermapbox\":[{\"type\":\"scattermapbox\",\"marker\":{\"colorbar\":{\"outlinewidth\":0,\"ticks\":\"\"}}}],\"scatterternary\":[{\"type\":\"scatterternary\",\"marker\":{\"colorbar\":{\"outlinewidth\":0,\"ticks\":\"\"}}}],\"scattercarpet\":[{\"type\":\"scattercarpet\",\"marker\":{\"colorbar\":{\"outlinewidth\":0,\"ticks\":\"\"}}}],\"carpet\":[{\"aaxis\":{\"endlinecolor\":\"#2a3f5f\",\"gridcolor\":\"white\",\"linecolor\":\"white\",\"minorgridcolor\":\"white\",\"startlinecolor\":\"#2a3f5f\"},\"baxis\":{\"endlinecolor\":\"#2a3f5f\",\"gridcolor\":\"white\",\"linecolor\":\"white\",\"minorgridcolor\":\"white\",\"startlinecolor\":\"#2a3f5f\"},\"type\":\"carpet\"}],\"table\":[{\"cells\":{\"fill\":{\"color\":\"#EBF0F8\"},\"line\":{\"color\":\"white\"}},\"header\":{\"fill\":{\"color\":\"#C8D4E3\"},\"line\":{\"color\":\"white\"}},\"type\":\"table\"}],\"barpolar\":[{\"marker\":{\"line\":{\"color\":\"#E5ECF6\",\"width\":0.5},\"pattern\":{\"fillmode\":\"overlay\",\"size\":10,\"solidity\":0.2}},\"type\":\"barpolar\"}],\"pie\":[{\"automargin\":true,\"type\":\"pie\"}]},\"layout\":{\"autotypenumbers\":\"strict\",\"colorway\":[\"#636efa\",\"#EF553B\",\"#00cc96\",\"#ab63fa\",\"#FFA15A\",\"#19d3f3\",\"#FF6692\",\"#B6E880\",\"#FF97FF\",\"#FECB52\"],\"font\":{\"color\":\"#2a3f5f\"},\"hovermode\":\"closest\",\"hoverlabel\":{\"align\":\"left\"},\"paper_bgcolor\":\"white\",\"plot_bgcolor\":\"#E5ECF6\",\"polar\":{\"bgcolor\":\"#E5ECF6\",\"angularaxis\":{\"gridcolor\":\"white\",\"linecolor\":\"white\",\"ticks\":\"\"},\"radialaxis\":{\"gridcolor\":\"white\",\"linecolor\":\"white\",\"ticks\":\"\"}},\"ternary\":{\"bgcolor\":\"#E5ECF6\",\"aaxis\":{\"gridcolor\":\"white\",\"linecolor\":\"white\",\"ticks\":\"\"},\"baxis\":{\"gridcolor\":\"white\",\"linecolor\":\"white\",\"ticks\":\"\"},\"caxis\":{\"gridcolor\":\"white\",\"linecolor\":\"white\",\"ticks\":\"\"}},\"coloraxis\":{\"colorbar\":{\"outlinewidth\":0,\"ticks\":\"\"}},\"colorscale\":{\"sequential\":[[0.0,\"#0d0887\"],[0.1111111111111111,\"#46039f\"],[0.2222222222222222,\"#7201a8\"],[0.3333333333333333,\"#9c179e\"],[0.4444444444444444,\"#bd3786\"],[0.5555555555555556,\"#d8576b\"],[0.6666666666666666,\"#ed7953\"],[0.7777777777777778,\"#fb9f3a\"],[0.8888888888888888,\"#fdca26\"],[1.0,\"#f0f921\"]],\"sequentialminus\":[[0.0,\"#0d0887\"],[0.1111111111111111,\"#46039f\"],[0.2222222222222222,\"#7201a8\"],[0.3333333333333333,\"#9c179e\"],[0.4444444444444444,\"#bd3786\"],[0.5555555555555556,\"#d8576b\"],[0.6666666666666666,\"#ed7953\"],[0.7777777777777778,\"#fb9f3a\"],[0.8888888888888888,\"#fdca26\"],[1.0,\"#f0f921\"]],\"diverging\":[[0,\"#8e0152\"],[0.1,\"#c51b7d\"],[0.2,\"#de77ae\"],[0.3,\"#f1b6da\"],[0.4,\"#fde0ef\"],[0.5,\"#f7f7f7\"],[0.6,\"#e6f5d0\"],[0.7,\"#b8e186\"],[0.8,\"#7fbc41\"],[0.9,\"#4d9221\"],[1,\"#276419\"]]},\"xaxis\":{\"gridcolor\":\"white\",\"linecolor\":\"white\",\"ticks\":\"\",\"title\":{\"standoff\":15},\"zerolinecolor\":\"white\",\"automargin\":true,\"zerolinewidth\":2},\"yaxis\":{\"gridcolor\":\"white\",\"linecolor\":\"white\",\"ticks\":\"\",\"title\":{\"standoff\":15},\"zerolinecolor\":\"white\",\"automargin\":true,\"zerolinewidth\":2},\"scene\":{\"xaxis\":{\"backgroundcolor\":\"#E5ECF6\",\"gridcolor\":\"white\",\"linecolor\":\"white\",\"showbackground\":true,\"ticks\":\"\",\"zerolinecolor\":\"white\",\"gridwidth\":2},\"yaxis\":{\"backgroundcolor\":\"#E5ECF6\",\"gridcolor\":\"white\",\"linecolor\":\"white\",\"showbackground\":true,\"ticks\":\"\",\"zerolinecolor\":\"white\",\"gridwidth\":2},\"zaxis\":{\"backgroundcolor\":\"#E5ECF6\",\"gridcolor\":\"white\",\"linecolor\":\"white\",\"showbackground\":true,\"ticks\":\"\",\"zerolinecolor\":\"white\",\"gridwidth\":2}},\"shapedefaults\":{\"line\":{\"color\":\"#2a3f5f\"}},\"annotationdefaults\":{\"arrowcolor\":\"#2a3f5f\",\"arrowhead\":0,\"arrowwidth\":1},\"geo\":{\"bgcolor\":\"white\",\"landcolor\":\"#E5ECF6\",\"subunitcolor\":\"white\",\"showland\":true,\"showlakes\":true,\"lakecolor\":\"white\"},\"title\":{\"x\":0.05},\"mapbox\":{\"style\":\"light\"}}},\"xaxis\":{\"anchor\":\"y\",\"domain\":[0.0,1.0],\"title\":{\"text\":\"x\"}},\"yaxis\":{\"anchor\":\"x\",\"domain\":[0.0,1.0],\"title\":{\"text\":\"y\"}},\"legend\":{\"tracegroupgap\":0},\"title\":{\"text\":\"Pareto Chart\"},\"barmode\":\"relative\"},                        {\"responsive\": true}                    ).then(function(){\n",
       "                            \n",
       "var gd = document.getElementById('df04eb55-7aae-43e6-b2ec-957c0233706a');\n",
       "var x = new MutationObserver(function (mutations, observer) {{\n",
       "        var display = window.getComputedStyle(gd).display;\n",
       "        if (!display || display === 'none') {{\n",
       "            console.log([gd, 'removed!']);\n",
       "            Plotly.purge(gd);\n",
       "            observer.disconnect();\n",
       "        }}\n",
       "}});\n",
       "\n",
       "// Listen for the removal of the full notebook cells\n",
       "var notebookContainer = gd.closest('#notebook-container');\n",
       "if (notebookContainer) {{\n",
       "    x.observe(notebookContainer, {childList: true});\n",
       "}}\n",
       "\n",
       "// Listen for the clearing of the current output cell\n",
       "var outputEl = gd.closest('.output');\n",
       "if (outputEl) {{\n",
       "    x.observe(outputEl, {childList: true});\n",
       "}}\n",
       "\n",
       "                        })                };                });            </script>        </div>"
      ]
     },
     "metadata": {},
     "output_type": "display_data"
    }
   ],
   "source": [
    "# Interactive Pareto chart\n",
    "import matplotlib.pyplot as plt\n",
    "import plotly.express as px\n",
    "\n",
    "# Left y-axis values: Frequency\n",
    "# Right y-axis values: Cumulative Percentage\n",
    "# X-axis values: ProductNo top 100\n",
    "\n",
    "\n",
    "\n",
    "fig = px.bar(\n",
    "    frequency[:100],\n",
    "    x=frequency['ProductNo'][:100],\n",
    "    y=frequency['Frequency'][:100],\n",
    "    text='Frequency',\n",
    "    title='Pareto Chart',\n",
    "    labels={'Frequency': 'Frequency', 'ProductNo': 'Product Number'}\n",
    ")\n",
    "\n",
    "# Add cumulative percentage line\n",
    "fig.add_scatter(\n",
    "    x=frequency['ProductNo'][:100],\n",
    "    y=frequency['CumulativePct'][:100],\n",
    "    mode='lines+markers',\n",
    "    name='Cumulative Percentage',\n",
    "    line=dict(color='red'),\n",
    ")\n",
    "\n",
    "# Update hover information for interactivity\n",
    "fig.update_traces(hovertemplate='ProductNo: %{x}<br>Frequency: %{y}')\n",
    "\n",
    "# Display the chart\n",
    "fig.show()"
   ]
  },
  {
   "cell_type": "code",
   "execution_count": 9,
   "metadata": {},
   "outputs": [
    {
     "data": {
      "application/vnd.plotly.v1+json": {
       "config": {
        "plotlyServerURL": "https://plot.ly"
       },
       "data": [
        {
         "alignmentgroup": "True",
         "hovertemplate": "ProductNo: %{x}<br>Value: %{y}",
         "legendgroup": "",
         "marker": {
          "color": "#636efa",
          "pattern": {
           "shape": ""
          }
         },
         "name": "",
         "offsetgroup": "",
         "orientation": "v",
         "showlegend": false,
         "text": [
          2206,
          1747,
          1639,
          1587,
          1371,
          1359,
          1244,
          1242,
          1238,
          1215,
          1209,
          1168,
          1161,
          1122,
          1117,
          1114,
          1084,
          1077,
          1072,
          1067,
          1059,
          1043,
          1037,
          1011,
          1008,
          1001,
          996,
          987,
          979,
          958,
          951,
          943,
          941,
          937,
          919,
          917,
          898,
          894,
          884,
          876,
          873,
          863,
          861,
          851,
          850,
          849,
          838,
          836,
          834,
          829,
          816,
          813,
          807,
          799,
          786,
          785,
          785,
          781,
          776,
          776,
          771,
          769,
          766,
          756,
          743,
          739,
          728,
          725,
          721,
          715,
          715,
          711,
          706,
          703,
          702,
          696,
          691,
          689,
          688,
          685,
          683,
          683,
          680,
          676,
          664,
          662,
          658,
          657,
          655,
          654,
          653,
          645,
          641,
          641,
          640,
          637,
          636,
          631,
          628,
          625
         ],
         "textposition": "auto",
         "type": "bar",
         "x": [
          "85123A",
          "85099B",
          "22423",
          "47566",
          "20725",
          "84879",
          "22720",
          "22197",
          "20727",
          "22457",
          "22383",
          "22469",
          "21212",
          "22086",
          "22411",
          "21931",
          "23203",
          "22386",
          "82482",
          "20728",
          "23298",
          "22382",
          "22666",
          "22993",
          "22384",
          "22961",
          "22960",
          "23209",
          "22178",
          "22699",
          "21034",
          "22697",
          "82494L",
          "22727",
          "22470",
          "23206",
          "23301",
          "20724",
          "22726",
          "84946",
          "20726",
          "21790",
          "22077",
          "85099C",
          "21080",
          "23084",
          "23199",
          "20914",
          "22112",
          "22139",
          "21181",
          "23201",
          "22138",
          "22910",
          "22722",
          "21977",
          "23202",
          "22355",
          "21175",
          "84991",
          "23355",
          "21929",
          "21754",
          "23300",
          "21232",
          "22111",
          "21928",
          "23245",
          "22698",
          "21733",
          "85099F",
          "22630",
          "22629",
          "23207",
          "22090",
          "20712",
          "22379",
          "23284",
          "22558",
          "21930",
          "20719",
          "84978",
          "21166",
          "22356",
          "21171",
          "85152",
          "20723",
          "21731",
          "22659",
          "23344",
          "22728",
          "79321",
          "22865",
          "82484",
          "22835",
          "84380",
          "23321",
          "84378",
          "21755",
          "23208"
         ],
         "xaxis": "x",
         "y": [
          2206,
          1747,
          1639,
          1587,
          1371,
          1359,
          1244,
          1242,
          1238,
          1215,
          1209,
          1168,
          1161,
          1122,
          1117,
          1114,
          1084,
          1077,
          1072,
          1067,
          1059,
          1043,
          1037,
          1011,
          1008,
          1001,
          996,
          987,
          979,
          958,
          951,
          943,
          941,
          937,
          919,
          917,
          898,
          894,
          884,
          876,
          873,
          863,
          861,
          851,
          850,
          849,
          838,
          836,
          834,
          829,
          816,
          813,
          807,
          799,
          786,
          785,
          785,
          781,
          776,
          776,
          771,
          769,
          766,
          756,
          743,
          739,
          728,
          725,
          721,
          715,
          715,
          711,
          706,
          703,
          702,
          696,
          691,
          689,
          688,
          685,
          683,
          683,
          680,
          676,
          664,
          662,
          658,
          657,
          655,
          654,
          653,
          645,
          641,
          641,
          640,
          637,
          636,
          631,
          628,
          625
         ],
         "yaxis": "y"
        },
        {
         "hovertemplate": "ProductNo: %{x}<br>Value: %{y}",
         "line": {
          "color": "red"
         },
         "mode": "lines+markers",
         "name": "Cumulative Percentage",
         "type": "scatter",
         "x": [
          "85123A",
          "85099B",
          "22423",
          "47566",
          "20725",
          "84879",
          "22720",
          "22197",
          "20727",
          "22457",
          "22383",
          "22469",
          "21212",
          "22086",
          "22411",
          "21931",
          "23203",
          "22386",
          "82482",
          "20728",
          "23298",
          "22382",
          "22666",
          "22993",
          "22384",
          "22961",
          "22960",
          "23209",
          "22178",
          "22699",
          "21034",
          "22697",
          "82494L",
          "22727",
          "22470",
          "23206",
          "23301",
          "20724",
          "22726",
          "84946",
          "20726",
          "21790",
          "22077",
          "85099C",
          "21080",
          "23084",
          "23199",
          "20914",
          "22112",
          "22139",
          "21181",
          "23201",
          "22138",
          "22910",
          "22722",
          "21977",
          "23202",
          "22355",
          "21175",
          "84991",
          "23355",
          "21929",
          "21754",
          "23300",
          "21232",
          "22111",
          "21928",
          "23245",
          "22698",
          "21733",
          "85099F",
          "22630",
          "22629",
          "23207",
          "22090",
          "20712",
          "22379",
          "23284",
          "22558",
          "21930",
          "20719",
          "84978",
          "21166",
          "22356",
          "21171",
          "85152",
          "20723",
          "21731",
          "22659",
          "23344",
          "22728",
          "79321",
          "22865",
          "82484",
          "22835",
          "84380",
          "23321",
          "84378",
          "21755",
          "23208"
         ],
         "y": [
          0.46639266626074016,
          0.8357435220891685,
          1.182261010757053,
          1.517784655977268,
          1.8076415668763952,
          2.0949614369799066,
          2.3579679994587646,
          2.62055172180502,
          2.88228976388607,
          3.1391651444421895,
          3.3947720046005005,
          3.641710642040458,
          3.8871693390163045,
          4.1243826534064,
          4.360538867464989,
          4.596060821324674,
          4.8252401731953185,
          5.052939584601853,
          5.279581895676882,
          5.505167106420405,
          5.729060956633516,
          5.949572085785807,
          6.168814694540288,
          6.3825603815709355,
          6.595671808402679,
          6.807303294770313,
          7.017877680806441,
          7.226549286245857,
          7.4335295311548615,
          7.636069954671537,
          7.837130437724104,
          8.036499560246261,
          8.235445842635816,
          8.433546444760164,
          8.62784148569109,
          8.821713686489412,
          9.011568906028009,
          9.200578445301401,
          9.387473783911778,
          9.572677761991747,
          9.75724747987281,
          9.93970299709086,
          10.121735674176307,
          10.301654150598742,
          10.481361206954874,
          10.660856843244707,
          10.838026858805224,
          11.014774034233136,
          11.191098369528449,
          11.366365604492254,
          11.538884378594142,
          11.710768892497123,
          11.8813848860023,
          12.050309518977064,
          12.216485691089913,
          12.382450443136458,
          12.548415195183004,
          12.713534266964347,
          13.041658209864016,
          12.87759623841418,
          13.204663080982343,
          13.367245111968067,
          13.529192882754886,
          13.689026452878695,
          13.846111562140587,
          14.002350991137272,
          14.156264799404642,
          14.309544347473107,
          14.46197821527637,
          14.613143562681822,
          14.764308910087273,
          14.914628577227521,
          15.063891144036262,
          15.2125194506461,
          15.360936337189635,
          15.508084703335362,
          15.654175969149584,
          15.799844394831203,
          15.945301400446517,
          16.090124145862934,
          16.234524051146742,
          16.37892395643055,
          16.52268960151546,
          16.66560956633516,
          16.805992490359245,
          16.94595257425073,
          17.085066977877002,
          17.22396996143698,
          17.36245010486435,
          17.500718828225427,
          17.638776131520196,
          17.775142074284556,
          17.91066233678371,
          18.046182599282865,
          18.181491441715718,
          18.316166023949666,
          18.45062918611731,
          18.584035247953455,
          18.71680704959069,
          18.848944591029024
         ],
         "yaxis": "y2"
        }
       ],
       "layout": {
        "barmode": "relative",
        "legend": {
         "tracegroupgap": 0
        },
        "template": {
         "data": {
          "bar": [
           {
            "error_x": {
             "color": "#2a3f5f"
            },
            "error_y": {
             "color": "#2a3f5f"
            },
            "marker": {
             "line": {
              "color": "#E5ECF6",
              "width": 0.5
             },
             "pattern": {
              "fillmode": "overlay",
              "size": 10,
              "solidity": 0.2
             }
            },
            "type": "bar"
           }
          ],
          "barpolar": [
           {
            "marker": {
             "line": {
              "color": "#E5ECF6",
              "width": 0.5
             },
             "pattern": {
              "fillmode": "overlay",
              "size": 10,
              "solidity": 0.2
             }
            },
            "type": "barpolar"
           }
          ],
          "carpet": [
           {
            "aaxis": {
             "endlinecolor": "#2a3f5f",
             "gridcolor": "white",
             "linecolor": "white",
             "minorgridcolor": "white",
             "startlinecolor": "#2a3f5f"
            },
            "baxis": {
             "endlinecolor": "#2a3f5f",
             "gridcolor": "white",
             "linecolor": "white",
             "minorgridcolor": "white",
             "startlinecolor": "#2a3f5f"
            },
            "type": "carpet"
           }
          ],
          "choropleth": [
           {
            "colorbar": {
             "outlinewidth": 0,
             "ticks": ""
            },
            "type": "choropleth"
           }
          ],
          "contour": [
           {
            "colorbar": {
             "outlinewidth": 0,
             "ticks": ""
            },
            "colorscale": [
             [
              0,
              "#0d0887"
             ],
             [
              0.1111111111111111,
              "#46039f"
             ],
             [
              0.2222222222222222,
              "#7201a8"
             ],
             [
              0.3333333333333333,
              "#9c179e"
             ],
             [
              0.4444444444444444,
              "#bd3786"
             ],
             [
              0.5555555555555556,
              "#d8576b"
             ],
             [
              0.6666666666666666,
              "#ed7953"
             ],
             [
              0.7777777777777778,
              "#fb9f3a"
             ],
             [
              0.8888888888888888,
              "#fdca26"
             ],
             [
              1,
              "#f0f921"
             ]
            ],
            "type": "contour"
           }
          ],
          "contourcarpet": [
           {
            "colorbar": {
             "outlinewidth": 0,
             "ticks": ""
            },
            "type": "contourcarpet"
           }
          ],
          "heatmap": [
           {
            "colorbar": {
             "outlinewidth": 0,
             "ticks": ""
            },
            "colorscale": [
             [
              0,
              "#0d0887"
             ],
             [
              0.1111111111111111,
              "#46039f"
             ],
             [
              0.2222222222222222,
              "#7201a8"
             ],
             [
              0.3333333333333333,
              "#9c179e"
             ],
             [
              0.4444444444444444,
              "#bd3786"
             ],
             [
              0.5555555555555556,
              "#d8576b"
             ],
             [
              0.6666666666666666,
              "#ed7953"
             ],
             [
              0.7777777777777778,
              "#fb9f3a"
             ],
             [
              0.8888888888888888,
              "#fdca26"
             ],
             [
              1,
              "#f0f921"
             ]
            ],
            "type": "heatmap"
           }
          ],
          "heatmapgl": [
           {
            "colorbar": {
             "outlinewidth": 0,
             "ticks": ""
            },
            "colorscale": [
             [
              0,
              "#0d0887"
             ],
             [
              0.1111111111111111,
              "#46039f"
             ],
             [
              0.2222222222222222,
              "#7201a8"
             ],
             [
              0.3333333333333333,
              "#9c179e"
             ],
             [
              0.4444444444444444,
              "#bd3786"
             ],
             [
              0.5555555555555556,
              "#d8576b"
             ],
             [
              0.6666666666666666,
              "#ed7953"
             ],
             [
              0.7777777777777778,
              "#fb9f3a"
             ],
             [
              0.8888888888888888,
              "#fdca26"
             ],
             [
              1,
              "#f0f921"
             ]
            ],
            "type": "heatmapgl"
           }
          ],
          "histogram": [
           {
            "marker": {
             "pattern": {
              "fillmode": "overlay",
              "size": 10,
              "solidity": 0.2
             }
            },
            "type": "histogram"
           }
          ],
          "histogram2d": [
           {
            "colorbar": {
             "outlinewidth": 0,
             "ticks": ""
            },
            "colorscale": [
             [
              0,
              "#0d0887"
             ],
             [
              0.1111111111111111,
              "#46039f"
             ],
             [
              0.2222222222222222,
              "#7201a8"
             ],
             [
              0.3333333333333333,
              "#9c179e"
             ],
             [
              0.4444444444444444,
              "#bd3786"
             ],
             [
              0.5555555555555556,
              "#d8576b"
             ],
             [
              0.6666666666666666,
              "#ed7953"
             ],
             [
              0.7777777777777778,
              "#fb9f3a"
             ],
             [
              0.8888888888888888,
              "#fdca26"
             ],
             [
              1,
              "#f0f921"
             ]
            ],
            "type": "histogram2d"
           }
          ],
          "histogram2dcontour": [
           {
            "colorbar": {
             "outlinewidth": 0,
             "ticks": ""
            },
            "colorscale": [
             [
              0,
              "#0d0887"
             ],
             [
              0.1111111111111111,
              "#46039f"
             ],
             [
              0.2222222222222222,
              "#7201a8"
             ],
             [
              0.3333333333333333,
              "#9c179e"
             ],
             [
              0.4444444444444444,
              "#bd3786"
             ],
             [
              0.5555555555555556,
              "#d8576b"
             ],
             [
              0.6666666666666666,
              "#ed7953"
             ],
             [
              0.7777777777777778,
              "#fb9f3a"
             ],
             [
              0.8888888888888888,
              "#fdca26"
             ],
             [
              1,
              "#f0f921"
             ]
            ],
            "type": "histogram2dcontour"
           }
          ],
          "mesh3d": [
           {
            "colorbar": {
             "outlinewidth": 0,
             "ticks": ""
            },
            "type": "mesh3d"
           }
          ],
          "parcoords": [
           {
            "line": {
             "colorbar": {
              "outlinewidth": 0,
              "ticks": ""
             }
            },
            "type": "parcoords"
           }
          ],
          "pie": [
           {
            "automargin": true,
            "type": "pie"
           }
          ],
          "scatter": [
           {
            "fillpattern": {
             "fillmode": "overlay",
             "size": 10,
             "solidity": 0.2
            },
            "type": "scatter"
           }
          ],
          "scatter3d": [
           {
            "line": {
             "colorbar": {
              "outlinewidth": 0,
              "ticks": ""
             }
            },
            "marker": {
             "colorbar": {
              "outlinewidth": 0,
              "ticks": ""
             }
            },
            "type": "scatter3d"
           }
          ],
          "scattercarpet": [
           {
            "marker": {
             "colorbar": {
              "outlinewidth": 0,
              "ticks": ""
             }
            },
            "type": "scattercarpet"
           }
          ],
          "scattergeo": [
           {
            "marker": {
             "colorbar": {
              "outlinewidth": 0,
              "ticks": ""
             }
            },
            "type": "scattergeo"
           }
          ],
          "scattergl": [
           {
            "marker": {
             "colorbar": {
              "outlinewidth": 0,
              "ticks": ""
             }
            },
            "type": "scattergl"
           }
          ],
          "scattermapbox": [
           {
            "marker": {
             "colorbar": {
              "outlinewidth": 0,
              "ticks": ""
             }
            },
            "type": "scattermapbox"
           }
          ],
          "scatterpolar": [
           {
            "marker": {
             "colorbar": {
              "outlinewidth": 0,
              "ticks": ""
             }
            },
            "type": "scatterpolar"
           }
          ],
          "scatterpolargl": [
           {
            "marker": {
             "colorbar": {
              "outlinewidth": 0,
              "ticks": ""
             }
            },
            "type": "scatterpolargl"
           }
          ],
          "scatterternary": [
           {
            "marker": {
             "colorbar": {
              "outlinewidth": 0,
              "ticks": ""
             }
            },
            "type": "scatterternary"
           }
          ],
          "surface": [
           {
            "colorbar": {
             "outlinewidth": 0,
             "ticks": ""
            },
            "colorscale": [
             [
              0,
              "#0d0887"
             ],
             [
              0.1111111111111111,
              "#46039f"
             ],
             [
              0.2222222222222222,
              "#7201a8"
             ],
             [
              0.3333333333333333,
              "#9c179e"
             ],
             [
              0.4444444444444444,
              "#bd3786"
             ],
             [
              0.5555555555555556,
              "#d8576b"
             ],
             [
              0.6666666666666666,
              "#ed7953"
             ],
             [
              0.7777777777777778,
              "#fb9f3a"
             ],
             [
              0.8888888888888888,
              "#fdca26"
             ],
             [
              1,
              "#f0f921"
             ]
            ],
            "type": "surface"
           }
          ],
          "table": [
           {
            "cells": {
             "fill": {
              "color": "#EBF0F8"
             },
             "line": {
              "color": "white"
             }
            },
            "header": {
             "fill": {
              "color": "#C8D4E3"
             },
             "line": {
              "color": "white"
             }
            },
            "type": "table"
           }
          ]
         },
         "layout": {
          "annotationdefaults": {
           "arrowcolor": "#2a3f5f",
           "arrowhead": 0,
           "arrowwidth": 1
          },
          "autotypenumbers": "strict",
          "coloraxis": {
           "colorbar": {
            "outlinewidth": 0,
            "ticks": ""
           }
          },
          "colorscale": {
           "diverging": [
            [
             0,
             "#8e0152"
            ],
            [
             0.1,
             "#c51b7d"
            ],
            [
             0.2,
             "#de77ae"
            ],
            [
             0.3,
             "#f1b6da"
            ],
            [
             0.4,
             "#fde0ef"
            ],
            [
             0.5,
             "#f7f7f7"
            ],
            [
             0.6,
             "#e6f5d0"
            ],
            [
             0.7,
             "#b8e186"
            ],
            [
             0.8,
             "#7fbc41"
            ],
            [
             0.9,
             "#4d9221"
            ],
            [
             1,
             "#276419"
            ]
           ],
           "sequential": [
            [
             0,
             "#0d0887"
            ],
            [
             0.1111111111111111,
             "#46039f"
            ],
            [
             0.2222222222222222,
             "#7201a8"
            ],
            [
             0.3333333333333333,
             "#9c179e"
            ],
            [
             0.4444444444444444,
             "#bd3786"
            ],
            [
             0.5555555555555556,
             "#d8576b"
            ],
            [
             0.6666666666666666,
             "#ed7953"
            ],
            [
             0.7777777777777778,
             "#fb9f3a"
            ],
            [
             0.8888888888888888,
             "#fdca26"
            ],
            [
             1,
             "#f0f921"
            ]
           ],
           "sequentialminus": [
            [
             0,
             "#0d0887"
            ],
            [
             0.1111111111111111,
             "#46039f"
            ],
            [
             0.2222222222222222,
             "#7201a8"
            ],
            [
             0.3333333333333333,
             "#9c179e"
            ],
            [
             0.4444444444444444,
             "#bd3786"
            ],
            [
             0.5555555555555556,
             "#d8576b"
            ],
            [
             0.6666666666666666,
             "#ed7953"
            ],
            [
             0.7777777777777778,
             "#fb9f3a"
            ],
            [
             0.8888888888888888,
             "#fdca26"
            ],
            [
             1,
             "#f0f921"
            ]
           ]
          },
          "colorway": [
           "#636efa",
           "#EF553B",
           "#00cc96",
           "#ab63fa",
           "#FFA15A",
           "#19d3f3",
           "#FF6692",
           "#B6E880",
           "#FF97FF",
           "#FECB52"
          ],
          "font": {
           "color": "#2a3f5f"
          },
          "geo": {
           "bgcolor": "white",
           "lakecolor": "white",
           "landcolor": "#E5ECF6",
           "showlakes": true,
           "showland": true,
           "subunitcolor": "white"
          },
          "hoverlabel": {
           "align": "left"
          },
          "hovermode": "closest",
          "mapbox": {
           "style": "light"
          },
          "paper_bgcolor": "white",
          "plot_bgcolor": "#E5ECF6",
          "polar": {
           "angularaxis": {
            "gridcolor": "white",
            "linecolor": "white",
            "ticks": ""
           },
           "bgcolor": "#E5ECF6",
           "radialaxis": {
            "gridcolor": "white",
            "linecolor": "white",
            "ticks": ""
           }
          },
          "scene": {
           "xaxis": {
            "backgroundcolor": "#E5ECF6",
            "gridcolor": "white",
            "gridwidth": 2,
            "linecolor": "white",
            "showbackground": true,
            "ticks": "",
            "zerolinecolor": "white"
           },
           "yaxis": {
            "backgroundcolor": "#E5ECF6",
            "gridcolor": "white",
            "gridwidth": 2,
            "linecolor": "white",
            "showbackground": true,
            "ticks": "",
            "zerolinecolor": "white"
           },
           "zaxis": {
            "backgroundcolor": "#E5ECF6",
            "gridcolor": "white",
            "gridwidth": 2,
            "linecolor": "white",
            "showbackground": true,
            "ticks": "",
            "zerolinecolor": "white"
           }
          },
          "shapedefaults": {
           "line": {
            "color": "#2a3f5f"
           }
          },
          "ternary": {
           "aaxis": {
            "gridcolor": "white",
            "linecolor": "white",
            "ticks": ""
           },
           "baxis": {
            "gridcolor": "white",
            "linecolor": "white",
            "ticks": ""
           },
           "bgcolor": "#E5ECF6",
           "caxis": {
            "gridcolor": "white",
            "linecolor": "white",
            "ticks": ""
           }
          },
          "title": {
           "x": 0.05
          },
          "xaxis": {
           "automargin": true,
           "gridcolor": "white",
           "linecolor": "white",
           "ticks": "",
           "title": {
            "standoff": 15
           },
           "zerolinecolor": "white",
           "zerolinewidth": 2
          },
          "yaxis": {
           "automargin": true,
           "gridcolor": "white",
           "linecolor": "white",
           "ticks": "",
           "title": {
            "standoff": 15
           },
           "zerolinecolor": "white",
           "zerolinewidth": 2
          }
         }
        },
        "title": {
         "text": "Pareto Chart (Top 100 Products)"
        },
        "xaxis": {
         "anchor": "y",
         "domain": [
          0,
          1
         ],
         "title": {
          "text": "ProductNo (Top 100)"
         }
        },
        "yaxis": {
         "anchor": "x",
         "domain": [
          0,
          1
         ],
         "title": {
          "text": "Frequency"
         }
        },
        "yaxis2": {
         "overlaying": "y",
         "side": "right",
         "title": {
          "text": "Cumulative Percentage"
         }
        }
       }
      },
      "image/png": "[encoded data removed]",
      "text/html": [
       "<div>                            <div id=\"1b473233-67bc-426b-bd32-b2b43b427bb1\" class=\"plotly-graph-div\" style=\"height:525px; width:100%;\"></div>            <script type=\"text/javascript\">                require([\"plotly\"], function(Plotly) {                    window.PLOTLYENV=window.PLOTLYENV || {};                                    if (document.getElementById(\"1b473233-67bc-426b-bd32-b2b43b427bb1\")) {                    Plotly.newPlot(                        \"1b473233-67bc-426b-bd32-b2b43b427bb1\",                        [{\"alignmentgroup\":\"True\",\"hovertemplate\":\"ProductNo: %{x}\\u003cbr\\u003eValue: %{y}\",\"legendgroup\":\"\",\"marker\":{\"color\":\"#636efa\",\"pattern\":{\"shape\":\"\"}},\"name\":\"\",\"offsetgroup\":\"\",\"orientation\":\"v\",\"showlegend\":false,\"text\":[2206.0,1747.0,1639.0,1587.0,1371.0,1359.0,1244.0,1242.0,1238.0,1215.0,1209.0,1168.0,1161.0,1122.0,1117.0,1114.0,1084.0,1077.0,1072.0,1067.0,1059.0,1043.0,1037.0,1011.0,1008.0,1001.0,996.0,987.0,979.0,958.0,951.0,943.0,941.0,937.0,919.0,917.0,898.0,894.0,884.0,876.0,873.0,863.0,861.0,851.0,850.0,849.0,838.0,836.0,834.0,829.0,816.0,813.0,807.0,799.0,786.0,785.0,785.0,781.0,776.0,776.0,771.0,769.0,766.0,756.0,743.0,739.0,728.0,725.0,721.0,715.0,715.0,711.0,706.0,703.0,702.0,696.0,691.0,689.0,688.0,685.0,683.0,683.0,680.0,676.0,664.0,662.0,658.0,657.0,655.0,654.0,653.0,645.0,641.0,641.0,640.0,637.0,636.0,631.0,628.0,625.0],\"textposition\":\"auto\",\"x\":[\"85123A\",\"85099B\",\"22423\",\"47566\",\"20725\",\"84879\",\"22720\",\"22197\",\"20727\",\"22457\",\"22383\",\"22469\",\"21212\",\"22086\",\"22411\",\"21931\",\"23203\",\"22386\",\"82482\",\"20728\",\"23298\",\"22382\",\"22666\",\"22993\",\"22384\",\"22961\",\"22960\",\"23209\",\"22178\",\"22699\",\"21034\",\"22697\",\"82494L\",\"22727\",\"22470\",\"23206\",\"23301\",\"20724\",\"22726\",\"84946\",\"20726\",\"21790\",\"22077\",\"85099C\",\"21080\",\"23084\",\"23199\",\"20914\",\"22112\",\"22139\",\"21181\",\"23201\",\"22138\",\"22910\",\"22722\",\"21977\",\"23202\",\"22355\",\"21175\",\"84991\",\"23355\",\"21929\",\"21754\",\"23300\",\"21232\",\"22111\",\"21928\",\"23245\",\"22698\",\"21733\",\"85099F\",\"22630\",\"22629\",\"23207\",\"22090\",\"20712\",\"22379\",\"23284\",\"22558\",\"21930\",\"20719\",\"84978\",\"21166\",\"22356\",\"21171\",\"85152\",\"20723\",\"21731\",\"22659\",\"23344\",\"22728\",\"79321\",\"22865\",\"82484\",\"22835\",\"84380\",\"23321\",\"84378\",\"21755\",\"23208\"],\"xaxis\":\"x\",\"y\":[2206,1747,1639,1587,1371,1359,1244,1242,1238,1215,1209,1168,1161,1122,1117,1114,1084,1077,1072,1067,1059,1043,1037,1011,1008,1001,996,987,979,958,951,943,941,937,919,917,898,894,884,876,873,863,861,851,850,849,838,836,834,829,816,813,807,799,786,785,785,781,776,776,771,769,766,756,743,739,728,725,721,715,715,711,706,703,702,696,691,689,688,685,683,683,680,676,664,662,658,657,655,654,653,645,641,641,640,637,636,631,628,625],\"yaxis\":\"y\",\"type\":\"bar\"},{\"line\":{\"color\":\"red\"},\"mode\":\"lines+markers\",\"name\":\"Cumulative Percentage\",\"x\":[\"85123A\",\"85099B\",\"22423\",\"47566\",\"20725\",\"84879\",\"22720\",\"22197\",\"20727\",\"22457\",\"22383\",\"22469\",\"21212\",\"22086\",\"22411\",\"21931\",\"23203\",\"22386\",\"82482\",\"20728\",\"23298\",\"22382\",\"22666\",\"22993\",\"22384\",\"22961\",\"22960\",\"23209\",\"22178\",\"22699\",\"21034\",\"22697\",\"82494L\",\"22727\",\"22470\",\"23206\",\"23301\",\"20724\",\"22726\",\"84946\",\"20726\",\"21790\",\"22077\",\"85099C\",\"21080\",\"23084\",\"23199\",\"20914\",\"22112\",\"22139\",\"21181\",\"23201\",\"22138\",\"22910\",\"22722\",\"21977\",\"23202\",\"22355\",\"21175\",\"84991\",\"23355\",\"21929\",\"21754\",\"23300\",\"21232\",\"22111\",\"21928\",\"23245\",\"22698\",\"21733\",\"85099F\",\"22630\",\"22629\",\"23207\",\"22090\",\"20712\",\"22379\",\"23284\",\"22558\",\"21930\",\"20719\",\"84978\",\"21166\",\"22356\",\"21171\",\"85152\",\"20723\",\"21731\",\"22659\",\"23344\",\"22728\",\"79321\",\"22865\",\"82484\",\"22835\",\"84380\",\"23321\",\"84378\",\"21755\",\"23208\"],\"y\":[0.46639266626074016,0.8357435220891685,1.182261010757053,1.517784655977268,1.8076415668763952,2.0949614369799066,2.3579679994587646,2.62055172180502,2.88228976388607,3.1391651444421895,3.3947720046005005,3.641710642040458,3.8871693390163045,4.1243826534064,4.360538867464989,4.596060821324674,4.8252401731953185,5.052939584601853,5.279581895676882,5.505167106420405,5.729060956633516,5.949572085785807,6.168814694540288,6.3825603815709355,6.595671808402679,6.807303294770313,7.017877680806441,7.226549286245857,7.4335295311548615,7.636069954671537,7.837130437724104,8.036499560246261,8.235445842635816,8.433546444760164,8.62784148569109,8.821713686489412,9.011568906028009,9.200578445301401,9.387473783911778,9.572677761991747,9.75724747987281,9.93970299709086,10.121735674176307,10.301654150598742,10.481361206954874,10.660856843244707,10.838026858805224,11.014774034233136,11.191098369528449,11.366365604492254,11.538884378594142,11.710768892497123,11.8813848860023,12.050309518977064,12.216485691089913,12.382450443136458,12.548415195183004,12.713534266964347,13.041658209864016,12.87759623841418,13.204663080982343,13.367245111968067,13.529192882754886,13.689026452878695,13.846111562140587,14.002350991137272,14.156264799404642,14.309544347473107,14.46197821527637,14.613143562681822,14.764308910087273,14.914628577227521,15.063891144036262,15.2125194506461,15.360936337189635,15.508084703335362,15.654175969149584,15.799844394831203,15.945301400446517,16.090124145862934,16.234524051146742,16.37892395643055,16.52268960151546,16.66560956633516,16.805992490359245,16.94595257425073,17.085066977877002,17.22396996143698,17.36245010486435,17.500718828225427,17.638776131520196,17.775142074284556,17.91066233678371,18.046182599282865,18.181491441715718,18.316166023949666,18.45062918611731,18.584035247953455,18.71680704959069,18.848944591029024],\"yaxis\":\"y2\",\"type\":\"scatter\",\"hovertemplate\":\"ProductNo: %{x}\\u003cbr\\u003eValue: %{y}\"}],                        {\"template\":{\"data\":{\"histogram2dcontour\":[{\"type\":\"histogram2dcontour\",\"colorbar\":{\"outlinewidth\":0,\"ticks\":\"\"},\"colorscale\":[[0.0,\"#0d0887\"],[0.1111111111111111,\"#46039f\"],[0.2222222222222222,\"#7201a8\"],[0.3333333333333333,\"#9c179e\"],[0.4444444444444444,\"#bd3786\"],[0.5555555555555556,\"#d8576b\"],[0.6666666666666666,\"#ed7953\"],[0.7777777777777778,\"#fb9f3a\"],[0.8888888888888888,\"#fdca26\"],[1.0,\"#f0f921\"]]}],\"choropleth\":[{\"type\":\"choropleth\",\"colorbar\":{\"outlinewidth\":0,\"ticks\":\"\"}}],\"histogram2d\":[{\"type\":\"histogram2d\",\"colorbar\":{\"outlinewidth\":0,\"ticks\":\"\"},\"colorscale\":[[0.0,\"#0d0887\"],[0.1111111111111111,\"#46039f\"],[0.2222222222222222,\"#7201a8\"],[0.3333333333333333,\"#9c179e\"],[0.4444444444444444,\"#bd3786\"],[0.5555555555555556,\"#d8576b\"],[0.6666666666666666,\"#ed7953\"],[0.7777777777777778,\"#fb9f3a\"],[0.8888888888888888,\"#fdca26\"],[1.0,\"#f0f921\"]]}],\"heatmap\":[{\"type\":\"heatmap\",\"colorbar\":{\"outlinewidth\":0,\"ticks\":\"\"},\"colorscale\":[[0.0,\"#0d0887\"],[0.1111111111111111,\"#46039f\"],[0.2222222222222222,\"#7201a8\"],[0.3333333333333333,\"#9c179e\"],[0.4444444444444444,\"#bd3786\"],[0.5555555555555556,\"#d8576b\"],[0.6666666666666666,\"#ed7953\"],[0.7777777777777778,\"#fb9f3a\"],[0.8888888888888888,\"#fdca26\"],[1.0,\"#f0f921\"]]}],\"heatmapgl\":[{\"type\":\"heatmapgl\",\"colorbar\":{\"outlinewidth\":0,\"ticks\":\"\"},\"colorscale\":[[0.0,\"#0d0887\"],[0.1111111111111111,\"#46039f\"],[0.2222222222222222,\"#7201a8\"],[0.3333333333333333,\"#9c179e\"],[0.4444444444444444,\"#bd3786\"],[0.5555555555555556,\"#d8576b\"],[0.6666666666666666,\"#ed7953\"],[0.7777777777777778,\"#fb9f3a\"],[0.8888888888888888,\"#fdca26\"],[1.0,\"#f0f921\"]]}],\"contourcarpet\":[{\"type\":\"contourcarpet\",\"colorbar\":{\"outlinewidth\":0,\"ticks\":\"\"}}],\"contour\":[{\"type\":\"contour\",\"colorbar\":{\"outlinewidth\":0,\"ticks\":\"\"},\"colorscale\":[[0.0,\"#0d0887\"],[0.1111111111111111,\"#46039f\"],[0.2222222222222222,\"#7201a8\"],[0.3333333333333333,\"#9c179e\"],[0.4444444444444444,\"#bd3786\"],[0.5555555555555556,\"#d8576b\"],[0.6666666666666666,\"#ed7953\"],[0.7777777777777778,\"#fb9f3a\"],[0.8888888888888888,\"#fdca26\"],[1.0,\"#f0f921\"]]}],\"surface\":[{\"type\":\"surface\",\"colorbar\":{\"outlinewidth\":0,\"ticks\":\"\"},\"colorscale\":[[0.0,\"#0d0887\"],[0.1111111111111111,\"#46039f\"],[0.2222222222222222,\"#7201a8\"],[0.3333333333333333,\"#9c179e\"],[0.4444444444444444,\"#bd3786\"],[0.5555555555555556,\"#d8576b\"],[0.6666666666666666,\"#ed7953\"],[0.7777777777777778,\"#fb9f3a\"],[0.8888888888888888,\"#fdca26\"],[1.0,\"#f0f921\"]]}],\"mesh3d\":[{\"type\":\"mesh3d\",\"colorbar\":{\"outlinewidth\":0,\"ticks\":\"\"}}],\"scatter\":[{\"fillpattern\":{\"fillmode\":\"overlay\",\"size\":10,\"solidity\":0.2},\"type\":\"scatter\"}],\"parcoords\":[{\"type\":\"parcoords\",\"line\":{\"colorbar\":{\"outlinewidth\":0,\"ticks\":\"\"}}}],\"scatterpolargl\":[{\"type\":\"scatterpolargl\",\"marker\":{\"colorbar\":{\"outlinewidth\":0,\"ticks\":\"\"}}}],\"bar\":[{\"error_x\":{\"color\":\"#2a3f5f\"},\"error_y\":{\"color\":\"#2a3f5f\"},\"marker\":{\"line\":{\"color\":\"#E5ECF6\",\"width\":0.5},\"pattern\":{\"fillmode\":\"overlay\",\"size\":10,\"solidity\":0.2}},\"type\":\"bar\"}],\"scattergeo\":[{\"type\":\"scattergeo\",\"marker\":{\"colorbar\":{\"outlinewidth\":0,\"ticks\":\"\"}}}],\"scatterpolar\":[{\"type\":\"scatterpolar\",\"marker\":{\"colorbar\":{\"outlinewidth\":0,\"ticks\":\"\"}}}],\"histogram\":[{\"marker\":{\"pattern\":{\"fillmode\":\"overlay\",\"size\":10,\"solidity\":0.2}},\"type\":\"histogram\"}],\"scattergl\":[{\"type\":\"scattergl\",\"marker\":{\"colorbar\":{\"outlinewidth\":0,\"ticks\":\"\"}}}],\"scatter3d\":[{\"type\":\"scatter3d\",\"line\":{\"colorbar\":{\"outlinewidth\":0,\"ticks\":\"\"}},\"marker\":{\"colorbar\":{\"outlinewidth\":0,\"ticks\":\"\"}}}],\"scattermapbox\":[{\"type\":\"scattermapbox\",\"marker\":{\"colorbar\":{\"outlinewidth\":0,\"ticks\":\"\"}}}],\"scatterternary\":[{\"type\":\"scatterternary\",\"marker\":{\"colorbar\":{\"outlinewidth\":0,\"ticks\":\"\"}}}],\"scattercarpet\":[{\"type\":\"scattercarpet\",\"marker\":{\"colorbar\":{\"outlinewidth\":0,\"ticks\":\"\"}}}],\"carpet\":[{\"aaxis\":{\"endlinecolor\":\"#2a3f5f\",\"gridcolor\":\"white\",\"linecolor\":\"white\",\"minorgridcolor\":\"white\",\"startlinecolor\":\"#2a3f5f\"},\"baxis\":{\"endlinecolor\":\"#2a3f5f\",\"gridcolor\":\"white\",\"linecolor\":\"white\",\"minorgridcolor\":\"white\",\"startlinecolor\":\"#2a3f5f\"},\"type\":\"carpet\"}],\"table\":[{\"cells\":{\"fill\":{\"color\":\"#EBF0F8\"},\"line\":{\"color\":\"white\"}},\"header\":{\"fill\":{\"color\":\"#C8D4E3\"},\"line\":{\"color\":\"white\"}},\"type\":\"table\"}],\"barpolar\":[{\"marker\":{\"line\":{\"color\":\"#E5ECF6\",\"width\":0.5},\"pattern\":{\"fillmode\":\"overlay\",\"size\":10,\"solidity\":0.2}},\"type\":\"barpolar\"}],\"pie\":[{\"automargin\":true,\"type\":\"pie\"}]},\"layout\":{\"autotypenumbers\":\"strict\",\"colorway\":[\"#636efa\",\"#EF553B\",\"#00cc96\",\"#ab63fa\",\"#FFA15A\",\"#19d3f3\",\"#FF6692\",\"#B6E880\",\"#FF97FF\",\"#FECB52\"],\"font\":{\"color\":\"#2a3f5f\"},\"hovermode\":\"closest\",\"hoverlabel\":{\"align\":\"left\"},\"paper_bgcolor\":\"white\",\"plot_bgcolor\":\"#E5ECF6\",\"polar\":{\"bgcolor\":\"#E5ECF6\",\"angularaxis\":{\"gridcolor\":\"white\",\"linecolor\":\"white\",\"ticks\":\"\"},\"radialaxis\":{\"gridcolor\":\"white\",\"linecolor\":\"white\",\"ticks\":\"\"}},\"ternary\":{\"bgcolor\":\"#E5ECF6\",\"aaxis\":{\"gridcolor\":\"white\",\"linecolor\":\"white\",\"ticks\":\"\"},\"baxis\":{\"gridcolor\":\"white\",\"linecolor\":\"white\",\"ticks\":\"\"},\"caxis\":{\"gridcolor\":\"white\",\"linecolor\":\"white\",\"ticks\":\"\"}},\"coloraxis\":{\"colorbar\":{\"outlinewidth\":0,\"ticks\":\"\"}},\"colorscale\":{\"sequential\":[[0.0,\"#0d0887\"],[0.1111111111111111,\"#46039f\"],[0.2222222222222222,\"#7201a8\"],[0.3333333333333333,\"#9c179e\"],[0.4444444444444444,\"#bd3786\"],[0.5555555555555556,\"#d8576b\"],[0.6666666666666666,\"#ed7953\"],[0.7777777777777778,\"#fb9f3a\"],[0.8888888888888888,\"#fdca26\"],[1.0,\"#f0f921\"]],\"sequentialminus\":[[0.0,\"#0d0887\"],[0.1111111111111111,\"#46039f\"],[0.2222222222222222,\"#7201a8\"],[0.3333333333333333,\"#9c179e\"],[0.4444444444444444,\"#bd3786\"],[0.5555555555555556,\"#d8576b\"],[0.6666666666666666,\"#ed7953\"],[0.7777777777777778,\"#fb9f3a\"],[0.8888888888888888,\"#fdca26\"],[1.0,\"#f0f921\"]],\"diverging\":[[0,\"#8e0152\"],[0.1,\"#c51b7d\"],[0.2,\"#de77ae\"],[0.3,\"#f1b6da\"],[0.4,\"#fde0ef\"],[0.5,\"#f7f7f7\"],[0.6,\"#e6f5d0\"],[0.7,\"#b8e186\"],[0.8,\"#7fbc41\"],[0.9,\"#4d9221\"],[1,\"#276419\"]]},\"xaxis\":{\"gridcolor\":\"white\",\"linecolor\":\"white\",\"ticks\":\"\",\"title\":{\"standoff\":15},\"zerolinecolor\":\"white\",\"automargin\":true,\"zerolinewidth\":2},\"yaxis\":{\"gridcolor\":\"white\",\"linecolor\":\"white\",\"ticks\":\"\",\"title\":{\"standoff\":15},\"zerolinecolor\":\"white\",\"automargin\":true,\"zerolinewidth\":2},\"scene\":{\"xaxis\":{\"backgroundcolor\":\"#E5ECF6\",\"gridcolor\":\"white\",\"linecolor\":\"white\",\"showbackground\":true,\"ticks\":\"\",\"zerolinecolor\":\"white\",\"gridwidth\":2},\"yaxis\":{\"backgroundcolor\":\"#E5ECF6\",\"gridcolor\":\"white\",\"linecolor\":\"white\",\"showbackground\":true,\"ticks\":\"\",\"zerolinecolor\":\"white\",\"gridwidth\":2},\"zaxis\":{\"backgroundcolor\":\"#E5ECF6\",\"gridcolor\":\"white\",\"linecolor\":\"white\",\"showbackground\":true,\"ticks\":\"\",\"zerolinecolor\":\"white\",\"gridwidth\":2}},\"shapedefaults\":{\"line\":{\"color\":\"#2a3f5f\"}},\"annotationdefaults\":{\"arrowcolor\":\"#2a3f5f\",\"arrowhead\":0,\"arrowwidth\":1},\"geo\":{\"bgcolor\":\"white\",\"landcolor\":\"#E5ECF6\",\"subunitcolor\":\"white\",\"showland\":true,\"showlakes\":true,\"lakecolor\":\"white\"},\"title\":{\"x\":0.05},\"mapbox\":{\"style\":\"light\"}}},\"xaxis\":{\"anchor\":\"y\",\"domain\":[0.0,1.0],\"title\":{\"text\":\"ProductNo (Top 100)\"}},\"yaxis\":{\"anchor\":\"x\",\"domain\":[0.0,1.0],\"title\":{\"text\":\"Frequency\"}},\"legend\":{\"tracegroupgap\":0},\"title\":{\"text\":\"Pareto Chart (Top 100 Products)\"},\"barmode\":\"relative\",\"yaxis2\":{\"title\":{\"text\":\"Cumulative Percentage\"},\"overlaying\":\"y\",\"side\":\"right\"}},                        {\"responsive\": true}                    ).then(function(){\n",
       "                            \n",
       "var gd = document.getElementById('1b473233-67bc-426b-bd32-b2b43b427bb1');\n",
       "var x = new MutationObserver(function (mutations, observer) {{\n",
       "        var display = window.getComputedStyle(gd).display;\n",
       "        if (!display || display === 'none') {{\n",
       "            console.log([gd, 'removed!']);\n",
       "            Plotly.purge(gd);\n",
       "            observer.disconnect();\n",
       "        }}\n",
       "}});\n",
       "\n",
       "// Listen for the removal of the full notebook cells\n",
       "var notebookContainer = gd.closest('#notebook-container');\n",
       "if (notebookContainer) {{\n",
       "    x.observe(notebookContainer, {childList: true});\n",
       "}}\n",
       "\n",
       "// Listen for the clearing of the current output cell\n",
       "var outputEl = gd.closest('.output');\n",
       "if (outputEl) {{\n",
       "    x.observe(outputEl, {childList: true});\n",
       "}}\n",
       "\n",
       "                        })                };                });            </script>        </div>"
      ]
     },
     "metadata": {},
     "output_type": "display_data"
    }
   ],
   "source": [
    "import plotly.express as px\n",
    "\n",
    "# Sort your data by Frequency in descending order FIRST\n",
    "frequency = frequency.sort_values(by='Frequency', ascending=False).reset_index(drop=True)\n",
    "\n",
    "# Create a bar chart with Plotly Express\n",
    "fig = px.bar(\n",
    "    frequency[:100],\n",
    "    x='ProductNo',\n",
    "    y='Frequency',\n",
    "    text='Frequency',\n",
    "    title='Pareto Chart (Top 100 Products)',\n",
    "    labels={'Frequency': 'Frequency', 'ProductNo': 'Product Number'}\n",
    ")\n",
    "\n",
    "# Add the cumulative percentage line on a secondary y-axis\n",
    "fig.add_scatter(\n",
    "    x=frequency['ProductNo'][:100],\n",
    "    y=frequency['CumulativePct'][:100],\n",
    "    mode='lines+markers',\n",
    "    name='Cumulative Percentage',\n",
    "    line=dict(color='red'),\n",
    "    yaxis='y2'\n",
    ")\n",
    "\n",
    "# Configure both y-axes and the x-axis\n",
    "fig.update_layout(\n",
    "    xaxis=dict(\n",
    "        title='ProductNo (Top 100)'\n",
    "    ),\n",
    "    yaxis=dict(\n",
    "        title='Frequency'\n",
    "    ),\n",
    "    yaxis2=dict(\n",
    "        title='Cumulative Percentage',\n",
    "        overlaying='y',\n",
    "        side='right'\n",
    "    )\n",
    ")\n",
    "\n",
    "# (Optional) Update hover templates or annotations as needed\n",
    "fig.update_traces(hovertemplate='ProductNo: %{x}<br>Value: %{y}')\n",
    "\n",
    "fig.show()\n"
   ]
  },
  {
   "cell_type": "code",
   "execution_count": null,
   "metadata": {},
   "outputs": [],
   "source": []
  },
  {
   "cell_type": "code",
   "execution_count": null,
   "metadata": {
    "vscode": {
     "languageId": "r"
    }
   },
   "outputs": [],
   "source": [
    "import matplotlib.pyplot as plt\n",
    "\n",
    "fig, ax1 = plt.subplots()\n",
    "\n",
    "# Plot the frequency of purchases\n",
    "ax1.bar(frequency['ProductNo'][:10], frequency['Frequency'][:10], color='C0')\n",
    "ax1.set_xlabel('ProductNo')\n",
    "ax1.set_ylabel('Frequency', color='C0')\n",
    "ax1.tick_params(axis='y', labelcolor='C0')\n",
    "\n",
    "# Create a second y-axis to plot the cumulative percentage\n",
    "ax2 = ax1.twinx()\n",
    "ax2.plot(frequency['ProductNo'][:10], frequency['CumalativePct'][:10], color='C1', marker='D', ms=5)\n",
    "ax2.set_ylabel('Cumulative Percentage', color='C1')\n",
    "ax2.tick_params(axis='y', labelcolor='C1')\n",
    "\n",
    "plt.title('Pareto Chart')\n",
    "plt.show()"
   ]
  },
  {
   "cell_type": "code",
   "execution_count": null,
   "metadata": {},
   "outputs": [],
   "source": []
  }
 ],
 "metadata": {
  "kernelspec": {
   "display_name": "Python 3 (ipykernel)",
   "language": "python",
   "name": "python3"
  },
  "language_info": {
   "codemirror_mode": {
    "name": "ipython",
    "version": 3
   },
   "file_extension": ".py",
   "mimetype": "text/x-python",
   "name": "python",
   "nbconvert_exporter": "python",
   "pygments_lexer": "ipython3",
   "version": "3.11.8"
  }
 },
 "nbformat": 4,
 "nbformat_minor": 4
}
